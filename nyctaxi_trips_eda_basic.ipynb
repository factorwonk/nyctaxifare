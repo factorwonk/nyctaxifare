{
 "cells": [
  {
   "cell_type": "code",
   "execution_count": 1,
   "metadata": {},
   "outputs": [
    {
     "name": "stderr",
     "output_type": "stream",
     "text": [
      "/Users/hyperion/anaconda/envs/ipykernel_py2/lib/python2.7/site-packages/statsmodels/compat/pandas.py:56: FutureWarning: The pandas.core.datetools module is deprecated and will be removed in a future version. Please use the pandas.tseries module instead.\n",
      "  from pandas.core import datetools\n"
     ]
    }
   ],
   "source": [
    "import pandas as pd\n",
    "import datetime as dt\n",
    "import numpy as np\n",
    "import matplotlib.pyplot as plt\n",
    "import seaborn as sns\n",
    "import statsmodels.api as sm\n",
    "import sqlite3\n",
    "sns.set_style('darkgrid')\n",
    "\n",
    "%matplotlib inline\n",
    "%config InlineBackend.figure_format = 'retina'"
   ]
  },
  {
   "cell_type": "code",
   "execution_count": 2,
   "metadata": {
    "collapsed": true
   },
   "outputs": [],
   "source": [
    "from geopy.geocoders import Nominatim\n",
    "geolocator = Nominatim()"
   ]
  },
  {
   "cell_type": "code",
   "execution_count": 3,
   "metadata": {
    "collapsed": true
   },
   "outputs": [],
   "source": [
    "# View all columns on the screen\n",
    "pd.set_option('max_columns', 100)\n",
    "pd.set_option('display.max_rows', 500)\n",
    "pd.set_option('display.width', 1000)\n",
    "pd.set_option('display.max_colwidth',1000)"
   ]
  },
  {
   "cell_type": "markdown",
   "metadata": {},
   "source": [
    "## Load trip data from DB\n",
    "---\n",
    "\n",
    "### There are 15 million rows in the database - I use a week of data instead"
   ]
  },
  {
   "cell_type": "code",
   "execution_count": 4,
   "metadata": {
    "collapsed": true
   },
   "outputs": [],
   "source": [
    "query_string1 = '''\n",
    "                select * from trips where pickup_datetime < '2013-04-08' order by pickup_datetime asc\n",
    "'''"
   ]
  },
  {
   "cell_type": "code",
   "execution_count": 5,
   "metadata": {},
   "outputs": [
    {
     "data": {
      "text/html": [
       "<div>\n",
       "<style>\n",
       "    .dataframe thead tr:only-child th {\n",
       "        text-align: right;\n",
       "    }\n",
       "\n",
       "    .dataframe thead th {\n",
       "        text-align: left;\n",
       "    }\n",
       "\n",
       "    .dataframe tbody tr th {\n",
       "        vertical-align: top;\n",
       "    }\n",
       "</style>\n",
       "<table border=\"1\" class=\"dataframe\">\n",
       "  <thead>\n",
       "    <tr style=\"text-align: right;\">\n",
       "      <th></th>\n",
       "      <th>index</th>\n",
       "      <th>medallion</th>\n",
       "      <th>hack_license</th>\n",
       "      <th>vendor_id</th>\n",
       "      <th>rate_code</th>\n",
       "      <th>store_and_fwd_flag</th>\n",
       "      <th>pickup_datetime</th>\n",
       "      <th>dropoff_datetime</th>\n",
       "      <th>passenger_count</th>\n",
       "      <th>trip_time_in_secs</th>\n",
       "      <th>trip_distance</th>\n",
       "      <th>pickup_longitude</th>\n",
       "      <th>pickup_latitude</th>\n",
       "      <th>dropoff_longitude</th>\n",
       "      <th>dropoff_latitude</th>\n",
       "    </tr>\n",
       "  </thead>\n",
       "  <tbody>\n",
       "    <tr>\n",
       "      <th>3519773</th>\n",
       "      <td>10926424</td>\n",
       "      <td>D5AF01D58DA48FFF46169C232017673F</td>\n",
       "      <td>BBB0371651B842361E8068F803BD5AFE</td>\n",
       "      <td>CMT</td>\n",
       "      <td>1</td>\n",
       "      <td>N</td>\n",
       "      <td>2013-04-07 23:59:56</td>\n",
       "      <td>2013-04-08 00:23:59</td>\n",
       "      <td>1</td>\n",
       "      <td>1443</td>\n",
       "      <td>6.3</td>\n",
       "      <td>-74.002426</td>\n",
       "      <td>40.730354</td>\n",
       "      <td>-73.953674</td>\n",
       "      <td>40.787910</td>\n",
       "    </tr>\n",
       "    <tr>\n",
       "      <th>3519774</th>\n",
       "      <td>10943237</td>\n",
       "      <td>7E64B77A336CD52A4A081F1B0066954C</td>\n",
       "      <td>6452FBD410A159B4A3E17C7EA4FE7293</td>\n",
       "      <td>CMT</td>\n",
       "      <td>1</td>\n",
       "      <td>N</td>\n",
       "      <td>2013-04-07 23:59:56</td>\n",
       "      <td>2013-04-08 00:05:38</td>\n",
       "      <td>1</td>\n",
       "      <td>342</td>\n",
       "      <td>1.4</td>\n",
       "      <td>-73.980347</td>\n",
       "      <td>40.775566</td>\n",
       "      <td>-73.962570</td>\n",
       "      <td>40.764313</td>\n",
       "    </tr>\n",
       "    <tr>\n",
       "      <th>3519775</th>\n",
       "      <td>10694065</td>\n",
       "      <td>6AC551DA4299581A398D8A9D0AC7C25F</td>\n",
       "      <td>541BC740DB8088C1AB92D770F664D8EC</td>\n",
       "      <td>CMT</td>\n",
       "      <td>1</td>\n",
       "      <td>N</td>\n",
       "      <td>2013-04-07 23:59:57</td>\n",
       "      <td>2013-04-08 00:02:25</td>\n",
       "      <td>1</td>\n",
       "      <td>147</td>\n",
       "      <td>1.0</td>\n",
       "      <td>-73.990868</td>\n",
       "      <td>40.749439</td>\n",
       "      <td>-74.001015</td>\n",
       "      <td>40.737099</td>\n",
       "    </tr>\n",
       "    <tr>\n",
       "      <th>3519776</th>\n",
       "      <td>12497919</td>\n",
       "      <td>23A3564F3D4A361A3D3F8D8FE8E7D2FF</td>\n",
       "      <td>90C3F339879C9E6C61805622382881D5</td>\n",
       "      <td>CMT</td>\n",
       "      <td>1</td>\n",
       "      <td>N</td>\n",
       "      <td>2013-04-07 23:59:58</td>\n",
       "      <td>2013-04-08 00:03:37</td>\n",
       "      <td>2</td>\n",
       "      <td>218</td>\n",
       "      <td>0.9</td>\n",
       "      <td>-73.989685</td>\n",
       "      <td>40.751415</td>\n",
       "      <td>-73.990524</td>\n",
       "      <td>40.760773</td>\n",
       "    </tr>\n",
       "    <tr>\n",
       "      <th>3519777</th>\n",
       "      <td>12490214</td>\n",
       "      <td>291758BBCA44E8AFF6554E526B423A39</td>\n",
       "      <td>5647761721D488C1F671072B01AA83F5</td>\n",
       "      <td>CMT</td>\n",
       "      <td>1</td>\n",
       "      <td>N</td>\n",
       "      <td>2013-04-07 23:59:59</td>\n",
       "      <td>2013-04-08 00:07:51</td>\n",
       "      <td>1</td>\n",
       "      <td>471</td>\n",
       "      <td>1.9</td>\n",
       "      <td>-73.988693</td>\n",
       "      <td>40.734016</td>\n",
       "      <td>-73.986870</td>\n",
       "      <td>40.755569</td>\n",
       "    </tr>\n",
       "  </tbody>\n",
       "</table>\n",
       "</div>"
      ],
      "text/plain": [
       "            index                         medallion                      hack_license vendor_id  rate_code store_and_fwd_flag      pickup_datetime     dropoff_datetime  passenger_count  trip_time_in_secs  trip_distance  pickup_longitude  pickup_latitude  dropoff_longitude  dropoff_latitude\n",
       "3519773  10926424  D5AF01D58DA48FFF46169C232017673F  BBB0371651B842361E8068F803BD5AFE       CMT          1                  N  2013-04-07 23:59:56  2013-04-08 00:23:59                1               1443            6.3        -74.002426        40.730354         -73.953674         40.787910\n",
       "3519774  10943237  7E64B77A336CD52A4A081F1B0066954C  6452FBD410A159B4A3E17C7EA4FE7293       CMT          1                  N  2013-04-07 23:59:56  2013-04-08 00:05:38                1                342            1.4        -73.980347        40.775566         -73.962570         40.764313\n",
       "3519775  10694065  6AC551DA4299581A398D8A9D0AC7C25F  541BC740DB8088C1AB92D770F664D8EC       CMT          1                  N  2013-04-07 23:59:57  2013-04-08 00:02:25                1                147            1.0        -73.990868        40.749439         -74.001015         40.737099\n",
       "3519776  12497919  23A3564F3D4A361A3D3F8D8FE8E7D2FF  90C3F339879C9E6C61805622382881D5       CMT          1                  N  2013-04-07 23:59:58  2013-04-08 00:03:37                2                218            0.9        -73.989685        40.751415         -73.990524         40.760773\n",
       "3519777  12490214  291758BBCA44E8AFF6554E526B423A39  5647761721D488C1F671072B01AA83F5       CMT          1                  N  2013-04-07 23:59:59  2013-04-08 00:07:51                1                471            1.9        -73.988693        40.734016         -73.986870         40.755569"
      ]
     },
     "execution_count": 5,
     "metadata": {},
     "output_type": "execute_result"
    }
   ],
   "source": [
    "# Connect to the existing fleetriskdb\n",
    "con = sqlite3.connect('./DB/nyctaxidb.sqlite')\n",
    "# Confirm data is being returned from this query\n",
    "trip_data_df = pd.read_sql_query(query_string1, con)\n",
    "# Verify that result of SQL query is stored in the dataframe\n",
    "trip_data_df.tail()"
   ]
  },
  {
   "cell_type": "code",
   "execution_count": 6,
   "metadata": {
    "collapsed": true
   },
   "outputs": [],
   "source": [
    "con.close()"
   ]
  },
  {
   "cell_type": "code",
   "execution_count": 7,
   "metadata": {},
   "outputs": [
    {
     "name": "stdout",
     "output_type": "stream",
     "text": [
      "<class 'pandas.core.frame.DataFrame'>\n",
      "RangeIndex: 3519778 entries, 0 to 3519777\n",
      "Data columns (total 15 columns):\n",
      "index                 int64\n",
      "medallion             object\n",
      "hack_license          object\n",
      "vendor_id             object\n",
      "rate_code             int64\n",
      "store_and_fwd_flag    object\n",
      "pickup_datetime       object\n",
      "dropoff_datetime      object\n",
      "passenger_count       int64\n",
      "trip_time_in_secs     int64\n",
      "trip_distance         float64\n",
      "pickup_longitude      float64\n",
      "pickup_latitude       float64\n",
      "dropoff_longitude     float64\n",
      "dropoff_latitude      float64\n",
      "dtypes: float64(5), int64(4), object(6)\n",
      "memory usage: 402.8+ MB\n"
     ]
    }
   ],
   "source": [
    "trip_data_df.info()"
   ]
  },
  {
   "cell_type": "code",
   "execution_count": 8,
   "metadata": {},
   "outputs": [
    {
     "data": {
      "text/plain": [
       "3519778"
      ]
     },
     "execution_count": 8,
     "metadata": {},
     "output_type": "execute_result"
    }
   ],
   "source": [
    "trip_data_df.shape[0]"
   ]
  },
  {
   "cell_type": "markdown",
   "metadata": {},
   "source": [
    "## Scrub trip data for outliers"
   ]
  },
  {
   "cell_type": "code",
   "execution_count": 9,
   "metadata": {},
   "outputs": [
    {
     "data": {
      "text/plain": [
       "index                       0\n",
       "medallion                   0\n",
       "hack_license                0\n",
       "vendor_id                   0\n",
       "rate_code                   0\n",
       "store_and_fwd_flag    1750728\n",
       "pickup_datetime             0\n",
       "dropoff_datetime            0\n",
       "passenger_count             0\n",
       "trip_time_in_secs           0\n",
       "trip_distance               0\n",
       "pickup_longitude            0\n",
       "pickup_latitude             0\n",
       "dropoff_longitude          36\n",
       "dropoff_latitude           36\n",
       "dtype: int64"
      ]
     },
     "execution_count": 9,
     "metadata": {},
     "output_type": "execute_result"
    }
   ],
   "source": [
    "# Create a new dataframe for the cleaned trips data\n",
    "trips_df = trip_data_df.copy()\n",
    "# Check for nulls\n",
    "trips_df.isnull().sum()"
   ]
  },
  {
   "cell_type": "code",
   "execution_count": 10,
   "metadata": {},
   "outputs": [
    {
     "data": {
      "text/plain": [
       "Index([u'index', u'medallion', u'hack_license', u'vendor_id', u'rate_code', u'pickup_datetime', u'dropoff_datetime', u'passenger_count', u'trip_time_in_secs', u'trip_distance', u'pickup_longitude', u'pickup_latitude', u'dropoff_longitude', u'dropoff_latitude'], dtype='object')"
      ]
     },
     "execution_count": 10,
     "metadata": {},
     "output_type": "execute_result"
    }
   ],
   "source": [
    "# Let's drop the store_and_fwd_flag column and the null values of latitude and longitude\n",
    "trips_df = trips_df.drop('store_and_fwd_flag', axis=1)\n",
    "trips_df.columns"
   ]
  },
  {
   "cell_type": "code",
   "execution_count": 11,
   "metadata": {
    "collapsed": true
   },
   "outputs": [],
   "source": [
    "trips_df = trips_df[~trips_df.dropoff_latitude.isnull()]\n",
    "trips_df = trips_df[~trips_df.dropoff_longitude.isnull()]"
   ]
  },
  {
   "cell_type": "code",
   "execution_count": 12,
   "metadata": {},
   "outputs": [
    {
     "data": {
      "text/plain": [
       "index                0\n",
       "medallion            0\n",
       "hack_license         0\n",
       "vendor_id            0\n",
       "rate_code            0\n",
       "pickup_datetime      0\n",
       "dropoff_datetime     0\n",
       "passenger_count      0\n",
       "trip_time_in_secs    0\n",
       "trip_distance        0\n",
       "pickup_longitude     0\n",
       "pickup_latitude      0\n",
       "dropoff_longitude    0\n",
       "dropoff_latitude     0\n",
       "dtype: int64"
      ]
     },
     "execution_count": 12,
     "metadata": {},
     "output_type": "execute_result"
    }
   ],
   "source": [
    "trips_df.isnull().sum()"
   ]
  },
  {
   "cell_type": "code",
   "execution_count": 13,
   "metadata": {},
   "outputs": [
    {
     "data": {
      "text/html": [
       "<div>\n",
       "<style>\n",
       "    .dataframe thead tr:only-child th {\n",
       "        text-align: right;\n",
       "    }\n",
       "\n",
       "    .dataframe thead th {\n",
       "        text-align: left;\n",
       "    }\n",
       "\n",
       "    .dataframe tbody tr th {\n",
       "        vertical-align: top;\n",
       "    }\n",
       "</style>\n",
       "<table border=\"1\" class=\"dataframe\">\n",
       "  <thead>\n",
       "    <tr style=\"text-align: right;\">\n",
       "      <th></th>\n",
       "      <th>index</th>\n",
       "      <th>rate_code</th>\n",
       "      <th>passenger_count</th>\n",
       "      <th>trip_time_in_secs</th>\n",
       "      <th>trip_distance</th>\n",
       "      <th>pickup_longitude</th>\n",
       "      <th>pickup_latitude</th>\n",
       "      <th>dropoff_longitude</th>\n",
       "      <th>dropoff_latitude</th>\n",
       "    </tr>\n",
       "  </thead>\n",
       "  <tbody>\n",
       "    <tr>\n",
       "      <th>count</th>\n",
       "      <td>3.519742e+06</td>\n",
       "      <td>3.519742e+06</td>\n",
       "      <td>3.519742e+06</td>\n",
       "      <td>3.519742e+06</td>\n",
       "      <td>3.519742e+06</td>\n",
       "      <td>3.519742e+06</td>\n",
       "      <td>3.519742e+06</td>\n",
       "      <td>3.519742e+06</td>\n",
       "      <td>3.519742e+06</td>\n",
       "    </tr>\n",
       "    <tr>\n",
       "      <th>mean</th>\n",
       "      <td>1.159821e+07</td>\n",
       "      <td>1.033172e+00</td>\n",
       "      <td>1.717254e+00</td>\n",
       "      <td>7.500107e+02</td>\n",
       "      <td>2.867673e+00</td>\n",
       "      <td>-7.272865e+01</td>\n",
       "      <td>4.006971e+01</td>\n",
       "      <td>-7.268611e+01</td>\n",
       "      <td>4.004336e+01</td>\n",
       "    </tr>\n",
       "    <tr>\n",
       "      <th>std</th>\n",
       "      <td>2.685823e+06</td>\n",
       "      <td>3.141468e-01</td>\n",
       "      <td>1.387909e+00</td>\n",
       "      <td>5.555801e+02</td>\n",
       "      <td>3.364425e+00</td>\n",
       "      <td>9.751638e+00</td>\n",
       "      <td>6.216547e+00</td>\n",
       "      <td>9.892353e+00</td>\n",
       "      <td>6.767633e+00</td>\n",
       "    </tr>\n",
       "    <tr>\n",
       "      <th>min</th>\n",
       "      <td>0.000000e+00</td>\n",
       "      <td>0.000000e+00</td>\n",
       "      <td>0.000000e+00</td>\n",
       "      <td>0.000000e+00</td>\n",
       "      <td>0.000000e+00</td>\n",
       "      <td>-2.323420e+03</td>\n",
       "      <td>-3.116352e+03</td>\n",
       "      <td>-2.443862e+03</td>\n",
       "      <td>-3.281102e+03</td>\n",
       "    </tr>\n",
       "    <tr>\n",
       "      <th>25%</th>\n",
       "      <td>1.095135e+07</td>\n",
       "      <td>1.000000e+00</td>\n",
       "      <td>1.000000e+00</td>\n",
       "      <td>3.600000e+02</td>\n",
       "      <td>1.030000e+00</td>\n",
       "      <td>-7.399216e+01</td>\n",
       "      <td>4.073477e+01</td>\n",
       "      <td>-7.399149e+01</td>\n",
       "      <td>4.073395e+01</td>\n",
       "    </tr>\n",
       "    <tr>\n",
       "      <th>50%</th>\n",
       "      <td>1.189631e+07</td>\n",
       "      <td>1.000000e+00</td>\n",
       "      <td>1.000000e+00</td>\n",
       "      <td>6.000000e+02</td>\n",
       "      <td>1.780000e+00</td>\n",
       "      <td>-7.398180e+01</td>\n",
       "      <td>4.075264e+01</td>\n",
       "      <td>-7.398014e+01</td>\n",
       "      <td>4.075317e+01</td>\n",
       "    </tr>\n",
       "    <tr>\n",
       "      <th>75%</th>\n",
       "      <td>1.362739e+07</td>\n",
       "      <td>1.000000e+00</td>\n",
       "      <td>2.000000e+00</td>\n",
       "      <td>9.600000e+02</td>\n",
       "      <td>3.200000e+00</td>\n",
       "      <td>-7.396671e+01</td>\n",
       "      <td>4.076747e+01</td>\n",
       "      <td>-7.396365e+01</td>\n",
       "      <td>4.076823e+01</td>\n",
       "    </tr>\n",
       "    <tr>\n",
       "      <th>max</th>\n",
       "      <td>1.471133e+07</td>\n",
       "      <td>2.100000e+02</td>\n",
       "      <td>8.000000e+00</td>\n",
       "      <td>1.074000e+04</td>\n",
       "      <td>1.000000e+02</td>\n",
       "      <td>1.566670e-01</td>\n",
       "      <td>3.210393e+03</td>\n",
       "      <td>1.428739e+03</td>\n",
       "      <td>3.210369e+03</td>\n",
       "    </tr>\n",
       "  </tbody>\n",
       "</table>\n",
       "</div>"
      ],
      "text/plain": [
       "              index     rate_code  passenger_count  trip_time_in_secs  trip_distance  pickup_longitude  pickup_latitude  dropoff_longitude  dropoff_latitude\n",
       "count  3.519742e+06  3.519742e+06     3.519742e+06       3.519742e+06   3.519742e+06      3.519742e+06     3.519742e+06       3.519742e+06      3.519742e+06\n",
       "mean   1.159821e+07  1.033172e+00     1.717254e+00       7.500107e+02   2.867673e+00     -7.272865e+01     4.006971e+01      -7.268611e+01      4.004336e+01\n",
       "std    2.685823e+06  3.141468e-01     1.387909e+00       5.555801e+02   3.364425e+00      9.751638e+00     6.216547e+00       9.892353e+00      6.767633e+00\n",
       "min    0.000000e+00  0.000000e+00     0.000000e+00       0.000000e+00   0.000000e+00     -2.323420e+03    -3.116352e+03      -2.443862e+03     -3.281102e+03\n",
       "25%    1.095135e+07  1.000000e+00     1.000000e+00       3.600000e+02   1.030000e+00     -7.399216e+01     4.073477e+01      -7.399149e+01      4.073395e+01\n",
       "50%    1.189631e+07  1.000000e+00     1.000000e+00       6.000000e+02   1.780000e+00     -7.398180e+01     4.075264e+01      -7.398014e+01      4.075317e+01\n",
       "75%    1.362739e+07  1.000000e+00     2.000000e+00       9.600000e+02   3.200000e+00     -7.396671e+01     4.076747e+01      -7.396365e+01      4.076823e+01\n",
       "max    1.471133e+07  2.100000e+02     8.000000e+00       1.074000e+04   1.000000e+02      1.566670e-01     3.210393e+03       1.428739e+03      3.210369e+03"
      ]
     },
     "execution_count": 13,
     "metadata": {},
     "output_type": "execute_result"
    }
   ],
   "source": [
    "trips_df.describe()"
   ]
  },
  {
   "cell_type": "code",
   "execution_count": 14,
   "metadata": {},
   "outputs": [
    {
     "data": {
      "text/plain": [
       "58849"
      ]
     },
     "execution_count": 14,
     "metadata": {},
     "output_type": "execute_result"
    }
   ],
   "source": [
    "# Sanity check Latitude values\n",
    "trips_df[trips_df.pickup_latitude==0.0].shape[0]"
   ]
  },
  {
   "cell_type": "code",
   "execution_count": 15,
   "metadata": {},
   "outputs": [
    {
     "data": {
      "text/plain": [
       "60858"
      ]
     },
     "execution_count": 15,
     "metadata": {},
     "output_type": "execute_result"
    }
   ],
   "source": [
    "trips_df[trips_df.dropoff_latitude==0.0].shape[0]"
   ]
  },
  {
   "cell_type": "code",
   "execution_count": 16,
   "metadata": {},
   "outputs": [
    {
     "data": {
      "text/plain": [
       "59379"
      ]
     },
     "execution_count": 16,
     "metadata": {},
     "output_type": "execute_result"
    }
   ],
   "source": [
    "# Sanity Check Longitude Values\n",
    "trips_df[trips_df.pickup_longitude==0.0].shape[0]"
   ]
  },
  {
   "cell_type": "code",
   "execution_count": 17,
   "metadata": {},
   "outputs": [
    {
     "data": {
      "text/plain": [
       "61332"
      ]
     },
     "execution_count": 17,
     "metadata": {},
     "output_type": "execute_result"
    }
   ],
   "source": [
    "trips_df[trips_df.dropoff_longitude==0.0].shape[0]"
   ]
  },
  {
   "cell_type": "code",
   "execution_count": 18,
   "metadata": {},
   "outputs": [
    {
     "data": {
      "text/plain": [
       "8355"
      ]
     },
     "execution_count": 18,
     "metadata": {},
     "output_type": "execute_result"
    }
   ],
   "source": [
    "# How many trips are 0 secs?\n",
    "trips_df[trips_df.trip_time_in_secs==0].shape[0]"
   ]
  },
  {
   "cell_type": "code",
   "execution_count": 19,
   "metadata": {},
   "outputs": [
    {
     "data": {
      "text/plain": [
       "17703"
      ]
     },
     "execution_count": 19,
     "metadata": {},
     "output_type": "execute_result"
    }
   ],
   "source": [
    "# How many trips are 0km?\n",
    "trips_df[trips_df.trip_distance==0].shape[0]"
   ]
  },
  {
   "cell_type": "code",
   "execution_count": 20,
   "metadata": {},
   "outputs": [
    {
     "data": {
      "text/plain": [
       "1    2481776\n",
       "2     466409\n",
       "5     208969\n",
       "3     147064\n",
       "6     140812\n",
       "4      74695\n",
       "0         16\n",
       "8          1\n",
       "Name: passenger_count, dtype: int64"
      ]
     },
     "execution_count": 20,
     "metadata": {},
     "output_type": "execute_result"
    }
   ],
   "source": [
    "trips_df.passenger_count.value_counts()"
   ]
  },
  {
   "cell_type": "markdown",
   "metadata": {},
   "source": [
    "**Notes:**\n",
    "NYC Taxi Law prohibits more than 4 people in a 4-person taxicab, or more than 5 people in a 5 person taxicab. It is possible to have 6 people in a 5 person cab, if the sixth person is a child under seven and sits on the adult's lap, according to: http://www.nyc.gov/html/tlc/html/faq/faq_pass.shtml\n",
    "\n",
    "\n",
    "1. Remove all trips where trip_time_in_secs = 0\n",
    "2. Remove all trips where trip_distance = 0 km\n",
    "3. Remove all trips where passenger_count = 0 or 8 passengers\n",
    "4. Drop all pickup and dropoff rows where the latitude or longitude is 0.0 (Equator/Prime Meridian)"
   ]
  },
  {
   "cell_type": "code",
   "execution_count": 21,
   "metadata": {},
   "outputs": [
    {
     "data": {
      "text/plain": [
       "1    2481776\n",
       "2     466409\n",
       "5     208969\n",
       "3     147064\n",
       "6     140812\n",
       "4      74695\n",
       "Name: passenger_count, dtype: int64"
      ]
     },
     "execution_count": 21,
     "metadata": {},
     "output_type": "execute_result"
    }
   ],
   "source": [
    "# All trips with 1 - 6 passengers\n",
    "trips_df = trips_df[(trips_df.passenger_count > 0)&(trips_df.passenger_count < 7)]\n",
    "trips_df.passenger_count.value_counts()"
   ]
  },
  {
   "cell_type": "code",
   "execution_count": 22,
   "metadata": {},
   "outputs": [
    {
     "data": {
      "text/html": [
       "<div>\n",
       "<style>\n",
       "    .dataframe thead tr:only-child th {\n",
       "        text-align: right;\n",
       "    }\n",
       "\n",
       "    .dataframe thead th {\n",
       "        text-align: left;\n",
       "    }\n",
       "\n",
       "    .dataframe tbody tr th {\n",
       "        vertical-align: top;\n",
       "    }\n",
       "</style>\n",
       "<table border=\"1\" class=\"dataframe\">\n",
       "  <thead>\n",
       "    <tr style=\"text-align: right;\">\n",
       "      <th></th>\n",
       "      <th>index</th>\n",
       "      <th>medallion</th>\n",
       "      <th>hack_license</th>\n",
       "      <th>vendor_id</th>\n",
       "      <th>rate_code</th>\n",
       "      <th>pickup_datetime</th>\n",
       "      <th>dropoff_datetime</th>\n",
       "      <th>passenger_count</th>\n",
       "      <th>trip_time_in_secs</th>\n",
       "      <th>trip_distance</th>\n",
       "      <th>pickup_longitude</th>\n",
       "      <th>pickup_latitude</th>\n",
       "      <th>dropoff_longitude</th>\n",
       "      <th>dropoff_latitude</th>\n",
       "    </tr>\n",
       "  </thead>\n",
       "  <tbody>\n",
       "  </tbody>\n",
       "</table>\n",
       "</div>"
      ],
      "text/plain": [
       "Empty DataFrame\n",
       "Columns: [index, medallion, hack_license, vendor_id, rate_code, pickup_datetime, dropoff_datetime, passenger_count, trip_time_in_secs, trip_distance, pickup_longitude, pickup_latitude, dropoff_longitude, dropoff_latitude]\n",
       "Index: []"
      ]
     },
     "execution_count": 22,
     "metadata": {},
     "output_type": "execute_result"
    }
   ],
   "source": [
    "# Make sure we don't have any erroneous lat/long values\n",
    "trips_df = trips_df[(trips_df.pickup_latitude <> 0.0) & (trips_df.pickup_longitude <> 0.0)]\n",
    "trips_df = trips_df[(trips_df.dropoff_latitude <> 0.0) & (trips_df.dropoff_longitude <> 0.0)]\n",
    "trips_df[trips_df.pickup_latitude==0.0]"
   ]
  },
  {
   "cell_type": "code",
   "execution_count": 23,
   "metadata": {},
   "outputs": [
    {
     "data": {
      "text/html": [
       "<div>\n",
       "<style>\n",
       "    .dataframe thead tr:only-child th {\n",
       "        text-align: right;\n",
       "    }\n",
       "\n",
       "    .dataframe thead th {\n",
       "        text-align: left;\n",
       "    }\n",
       "\n",
       "    .dataframe tbody tr th {\n",
       "        vertical-align: top;\n",
       "    }\n",
       "</style>\n",
       "<table border=\"1\" class=\"dataframe\">\n",
       "  <thead>\n",
       "    <tr style=\"text-align: right;\">\n",
       "      <th></th>\n",
       "      <th>index</th>\n",
       "      <th>medallion</th>\n",
       "      <th>hack_license</th>\n",
       "      <th>vendor_id</th>\n",
       "      <th>rate_code</th>\n",
       "      <th>pickup_datetime</th>\n",
       "      <th>dropoff_datetime</th>\n",
       "      <th>passenger_count</th>\n",
       "      <th>trip_time_in_secs</th>\n",
       "      <th>trip_distance</th>\n",
       "      <th>pickup_longitude</th>\n",
       "      <th>pickup_latitude</th>\n",
       "      <th>dropoff_longitude</th>\n",
       "      <th>dropoff_latitude</th>\n",
       "    </tr>\n",
       "  </thead>\n",
       "  <tbody>\n",
       "    <tr>\n",
       "      <th>0</th>\n",
       "      <td>5558056</td>\n",
       "      <td>52BC28EAABDDC48741F825000D738850</td>\n",
       "      <td>DA77BDC1BC5CFD0E31613E7E2FF4EA24</td>\n",
       "      <td>CMT</td>\n",
       "      <td>1</td>\n",
       "      <td>2013-04-01 00:00:00</td>\n",
       "      <td>2013-04-01 00:10:32</td>\n",
       "      <td>1</td>\n",
       "      <td>632</td>\n",
       "      <td>3.40</td>\n",
       "      <td>-73.993500</td>\n",
       "      <td>40.746933</td>\n",
       "      <td>-73.956322</td>\n",
       "      <td>40.773064</td>\n",
       "    </tr>\n",
       "    <tr>\n",
       "      <th>2</th>\n",
       "      <td>12715058</td>\n",
       "      <td>13048646BCF94CC2F5CB4EF34CE50527</td>\n",
       "      <td>975649E3088B0D2BD2DE377B49B0898D</td>\n",
       "      <td>VTS</td>\n",
       "      <td>1</td>\n",
       "      <td>2013-04-01 00:00:00</td>\n",
       "      <td>2013-04-01 00:31:00</td>\n",
       "      <td>4</td>\n",
       "      <td>1860</td>\n",
       "      <td>20.27</td>\n",
       "      <td>-73.776657</td>\n",
       "      <td>40.645325</td>\n",
       "      <td>-73.978203</td>\n",
       "      <td>40.673931</td>\n",
       "    </tr>\n",
       "    <tr>\n",
       "      <th>3</th>\n",
       "      <td>12715560</td>\n",
       "      <td>B8733215A7E6A22EB832EEAEA731D3CB</td>\n",
       "      <td>66707B80913E62642A6C2E0BFEE45955</td>\n",
       "      <td>VTS</td>\n",
       "      <td>1</td>\n",
       "      <td>2013-04-01 00:00:00</td>\n",
       "      <td>2013-04-01 00:35:00</td>\n",
       "      <td>1</td>\n",
       "      <td>2100</td>\n",
       "      <td>10.29</td>\n",
       "      <td>-73.917908</td>\n",
       "      <td>40.770863</td>\n",
       "      <td>-73.899574</td>\n",
       "      <td>40.754028</td>\n",
       "    </tr>\n",
       "    <tr>\n",
       "      <th>4</th>\n",
       "      <td>12727135</td>\n",
       "      <td>6BB78818AFB34080166D1FB349EA2550</td>\n",
       "      <td>77A573BE341A4B887C566895F87B7D1C</td>\n",
       "      <td>VTS</td>\n",
       "      <td>5</td>\n",
       "      <td>2013-04-01 00:00:00</td>\n",
       "      <td>2013-04-01 00:32:00</td>\n",
       "      <td>4</td>\n",
       "      <td>1920</td>\n",
       "      <td>5.12</td>\n",
       "      <td>-73.987328</td>\n",
       "      <td>40.750397</td>\n",
       "      <td>-74.042847</td>\n",
       "      <td>40.720066</td>\n",
       "    </tr>\n",
       "    <tr>\n",
       "      <th>6</th>\n",
       "      <td>12744782</td>\n",
       "      <td>D80FD255D1921207A256F30136F4DBB2</td>\n",
       "      <td>871954A11B0687C7C43B0E782AAEC9F1</td>\n",
       "      <td>VTS</td>\n",
       "      <td>1</td>\n",
       "      <td>2013-04-01 00:00:00</td>\n",
       "      <td>2013-04-01 00:04:00</td>\n",
       "      <td>4</td>\n",
       "      <td>240</td>\n",
       "      <td>0.97</td>\n",
       "      <td>-73.959290</td>\n",
       "      <td>40.719727</td>\n",
       "      <td>-73.966736</td>\n",
       "      <td>40.710716</td>\n",
       "    </tr>\n",
       "  </tbody>\n",
       "</table>\n",
       "</div>"
      ],
      "text/plain": [
       "      index                         medallion                      hack_license vendor_id  rate_code      pickup_datetime     dropoff_datetime  passenger_count  trip_time_in_secs  trip_distance  pickup_longitude  pickup_latitude  dropoff_longitude  dropoff_latitude\n",
       "0   5558056  52BC28EAABDDC48741F825000D738850  DA77BDC1BC5CFD0E31613E7E2FF4EA24       CMT          1  2013-04-01 00:00:00  2013-04-01 00:10:32                1                632           3.40        -73.993500        40.746933         -73.956322         40.773064\n",
       "2  12715058  13048646BCF94CC2F5CB4EF34CE50527  975649E3088B0D2BD2DE377B49B0898D       VTS          1  2013-04-01 00:00:00  2013-04-01 00:31:00                4               1860          20.27        -73.776657        40.645325         -73.978203         40.673931\n",
       "3  12715560  B8733215A7E6A22EB832EEAEA731D3CB  66707B80913E62642A6C2E0BFEE45955       VTS          1  2013-04-01 00:00:00  2013-04-01 00:35:00                1               2100          10.29        -73.917908        40.770863         -73.899574         40.754028\n",
       "4  12727135  6BB78818AFB34080166D1FB349EA2550  77A573BE341A4B887C566895F87B7D1C       VTS          5  2013-04-01 00:00:00  2013-04-01 00:32:00                4               1920           5.12        -73.987328        40.750397         -74.042847         40.720066\n",
       "6  12744782  D80FD255D1921207A256F30136F4DBB2  871954A11B0687C7C43B0E782AAEC9F1       VTS          1  2013-04-01 00:00:00  2013-04-01 00:04:00                4                240           0.97        -73.959290        40.719727         -73.966736         40.710716"
      ]
     },
     "execution_count": 23,
     "metadata": {},
     "output_type": "execute_result"
    }
   ],
   "source": [
    "trips_df = trips_df[trips_df.trip_time_in_secs>0]\n",
    "trips_df = trips_df[trips_df.trip_distance>0.0]\n",
    "trips_df.head()"
   ]
  },
  {
   "cell_type": "code",
   "execution_count": 24,
   "metadata": {},
   "outputs": [
    {
     "data": {
      "text/html": [
       "<div>\n",
       "<style>\n",
       "    .dataframe thead tr:only-child th {\n",
       "        text-align: right;\n",
       "    }\n",
       "\n",
       "    .dataframe thead th {\n",
       "        text-align: left;\n",
       "    }\n",
       "\n",
       "    .dataframe tbody tr th {\n",
       "        vertical-align: top;\n",
       "    }\n",
       "</style>\n",
       "<table border=\"1\" class=\"dataframe\">\n",
       "  <thead>\n",
       "    <tr style=\"text-align: right;\">\n",
       "      <th></th>\n",
       "      <th>index</th>\n",
       "      <th>rate_code</th>\n",
       "      <th>passenger_count</th>\n",
       "      <th>trip_time_in_secs</th>\n",
       "      <th>trip_distance</th>\n",
       "      <th>pickup_longitude</th>\n",
       "      <th>pickup_latitude</th>\n",
       "      <th>dropoff_longitude</th>\n",
       "      <th>dropoff_latitude</th>\n",
       "    </tr>\n",
       "  </thead>\n",
       "  <tbody>\n",
       "    <tr>\n",
       "      <th>count</th>\n",
       "      <td>3.443103e+06</td>\n",
       "      <td>3.443103e+06</td>\n",
       "      <td>3.443103e+06</td>\n",
       "      <td>3.443103e+06</td>\n",
       "      <td>3.443103e+06</td>\n",
       "      <td>3.443103e+06</td>\n",
       "      <td>3.443103e+06</td>\n",
       "      <td>3.443103e+06</td>\n",
       "      <td>3.443103e+06</td>\n",
       "    </tr>\n",
       "    <tr>\n",
       "      <th>mean</th>\n",
       "      <td>1.160342e+07</td>\n",
       "      <td>1.026733e+00</td>\n",
       "      <td>1.720497e+00</td>\n",
       "      <td>7.534726e+02</td>\n",
       "      <td>2.885307e+00</td>\n",
       "      <td>-7.397570e+01</td>\n",
       "      <td>4.075080e+01</td>\n",
       "      <td>-7.397506e+01</td>\n",
       "      <td>4.075030e+01</td>\n",
       "    </tr>\n",
       "    <tr>\n",
       "      <th>std</th>\n",
       "      <td>2.686428e+06</td>\n",
       "      <td>2.772240e-01</td>\n",
       "      <td>1.390644e+00</td>\n",
       "      <td>5.534202e+02</td>\n",
       "      <td>3.366879e+00</td>\n",
       "      <td>1.198821e+00</td>\n",
       "      <td>2.493742e-01</td>\n",
       "      <td>1.561811e+00</td>\n",
       "      <td>1.803337e+00</td>\n",
       "    </tr>\n",
       "    <tr>\n",
       "      <th>min</th>\n",
       "      <td>0.000000e+00</td>\n",
       "      <td>0.000000e+00</td>\n",
       "      <td>1.000000e+00</td>\n",
       "      <td>1.000000e+00</td>\n",
       "      <td>1.000000e-02</td>\n",
       "      <td>-2.032891e+03</td>\n",
       "      <td>-1.577390e+00</td>\n",
       "      <td>-2.032891e+03</td>\n",
       "      <td>-3.281102e+03</td>\n",
       "    </tr>\n",
       "    <tr>\n",
       "      <th>25%</th>\n",
       "      <td>1.095211e+07</td>\n",
       "      <td>1.000000e+00</td>\n",
       "      <td>1.000000e+00</td>\n",
       "      <td>3.600000e+02</td>\n",
       "      <td>1.050000e+00</td>\n",
       "      <td>-7.399235e+01</td>\n",
       "      <td>4.073622e+01</td>\n",
       "      <td>-7.399167e+01</td>\n",
       "      <td>4.073529e+01</td>\n",
       "    </tr>\n",
       "    <tr>\n",
       "      <th>50%</th>\n",
       "      <td>1.191459e+07</td>\n",
       "      <td>1.000000e+00</td>\n",
       "      <td>1.000000e+00</td>\n",
       "      <td>6.000000e+02</td>\n",
       "      <td>1.800000e+00</td>\n",
       "      <td>-7.398207e+01</td>\n",
       "      <td>4.075330e+01</td>\n",
       "      <td>-7.398055e+01</td>\n",
       "      <td>4.075382e+01</td>\n",
       "    </tr>\n",
       "    <tr>\n",
       "      <th>75%</th>\n",
       "      <td>1.363157e+07</td>\n",
       "      <td>1.000000e+00</td>\n",
       "      <td>2.000000e+00</td>\n",
       "      <td>9.600000e+02</td>\n",
       "      <td>3.200000e+00</td>\n",
       "      <td>-7.396788e+01</td>\n",
       "      <td>4.076783e+01</td>\n",
       "      <td>-7.396513e+01</td>\n",
       "      <td>4.076849e+01</td>\n",
       "    </tr>\n",
       "    <tr>\n",
       "      <th>max</th>\n",
       "      <td>1.471133e+07</td>\n",
       "      <td>2.100000e+02</td>\n",
       "      <td>6.000000e+00</td>\n",
       "      <td>1.074000e+04</td>\n",
       "      <td>1.000000e+02</td>\n",
       "      <td>-1.667000e-03</td>\n",
       "      <td>4.755333e+02</td>\n",
       "      <td>1.428739e+03</td>\n",
       "      <td>4.043787e+02</td>\n",
       "    </tr>\n",
       "  </tbody>\n",
       "</table>\n",
       "</div>"
      ],
      "text/plain": [
       "              index     rate_code  passenger_count  trip_time_in_secs  trip_distance  pickup_longitude  pickup_latitude  dropoff_longitude  dropoff_latitude\n",
       "count  3.443103e+06  3.443103e+06     3.443103e+06       3.443103e+06   3.443103e+06      3.443103e+06     3.443103e+06       3.443103e+06      3.443103e+06\n",
       "mean   1.160342e+07  1.026733e+00     1.720497e+00       7.534726e+02   2.885307e+00     -7.397570e+01     4.075080e+01      -7.397506e+01      4.075030e+01\n",
       "std    2.686428e+06  2.772240e-01     1.390644e+00       5.534202e+02   3.366879e+00      1.198821e+00     2.493742e-01       1.561811e+00      1.803337e+00\n",
       "min    0.000000e+00  0.000000e+00     1.000000e+00       1.000000e+00   1.000000e-02     -2.032891e+03    -1.577390e+00      -2.032891e+03     -3.281102e+03\n",
       "25%    1.095211e+07  1.000000e+00     1.000000e+00       3.600000e+02   1.050000e+00     -7.399235e+01     4.073622e+01      -7.399167e+01      4.073529e+01\n",
       "50%    1.191459e+07  1.000000e+00     1.000000e+00       6.000000e+02   1.800000e+00     -7.398207e+01     4.075330e+01      -7.398055e+01      4.075382e+01\n",
       "75%    1.363157e+07  1.000000e+00     2.000000e+00       9.600000e+02   3.200000e+00     -7.396788e+01     4.076783e+01      -7.396513e+01      4.076849e+01\n",
       "max    1.471133e+07  2.100000e+02     6.000000e+00       1.074000e+04   1.000000e+02     -1.667000e-03     4.755333e+02       1.428739e+03      4.043787e+02"
      ]
     },
     "execution_count": 24,
     "metadata": {},
     "output_type": "execute_result"
    }
   ],
   "source": [
    "trips_df.describe()"
   ]
  },
  {
   "cell_type": "markdown",
   "metadata": {},
   "source": [
    "## Load fares data from csv\n",
    "---"
   ]
  },
  {
   "cell_type": "code",
   "execution_count": 25,
   "metadata": {
    "collapsed": true
   },
   "outputs": [],
   "source": [
    "query_string2 = '''\n",
    "                select * from fares where pickup_datetime < '2013-04-08' order by pickup_datetime asc\n",
    "'''"
   ]
  },
  {
   "cell_type": "code",
   "execution_count": 26,
   "metadata": {},
   "outputs": [
    {
     "data": {
      "text/html": [
       "<div>\n",
       "<style>\n",
       "    .dataframe thead tr:only-child th {\n",
       "        text-align: right;\n",
       "    }\n",
       "\n",
       "    .dataframe thead th {\n",
       "        text-align: left;\n",
       "    }\n",
       "\n",
       "    .dataframe tbody tr th {\n",
       "        vertical-align: top;\n",
       "    }\n",
       "</style>\n",
       "<table border=\"1\" class=\"dataframe\">\n",
       "  <thead>\n",
       "    <tr style=\"text-align: right;\">\n",
       "      <th></th>\n",
       "      <th>index</th>\n",
       "      <th>medallion</th>\n",
       "      <th>hack_license</th>\n",
       "      <th>vendor_id</th>\n",
       "      <th>pickup_datetime</th>\n",
       "      <th>payment_type</th>\n",
       "      <th>fare_amount</th>\n",
       "      <th>surcharge</th>\n",
       "      <th>mta_tax</th>\n",
       "      <th>tip_amount</th>\n",
       "      <th>tolls_amount</th>\n",
       "      <th>total_amount</th>\n",
       "    </tr>\n",
       "  </thead>\n",
       "  <tbody>\n",
       "    <tr>\n",
       "      <th>3519773</th>\n",
       "      <td>10926424</td>\n",
       "      <td>D5AF01D58DA48FFF46169C232017673F</td>\n",
       "      <td>BBB0371651B842361E8068F803BD5AFE</td>\n",
       "      <td>CMT</td>\n",
       "      <td>2013-04-07 23:59:56</td>\n",
       "      <td>CRD</td>\n",
       "      <td>22.0</td>\n",
       "      <td>0.5</td>\n",
       "      <td>0.5</td>\n",
       "      <td>4.6</td>\n",
       "      <td>0.0</td>\n",
       "      <td>27.6</td>\n",
       "    </tr>\n",
       "    <tr>\n",
       "      <th>3519774</th>\n",
       "      <td>10943237</td>\n",
       "      <td>7E64B77A336CD52A4A081F1B0066954C</td>\n",
       "      <td>6452FBD410A159B4A3E17C7EA4FE7293</td>\n",
       "      <td>CMT</td>\n",
       "      <td>2013-04-07 23:59:56</td>\n",
       "      <td>CRD</td>\n",
       "      <td>7.0</td>\n",
       "      <td>0.5</td>\n",
       "      <td>0.5</td>\n",
       "      <td>1.6</td>\n",
       "      <td>0.0</td>\n",
       "      <td>9.6</td>\n",
       "    </tr>\n",
       "    <tr>\n",
       "      <th>3519775</th>\n",
       "      <td>10694065</td>\n",
       "      <td>6AC551DA4299581A398D8A9D0AC7C25F</td>\n",
       "      <td>541BC740DB8088C1AB92D770F664D8EC</td>\n",
       "      <td>CMT</td>\n",
       "      <td>2013-04-07 23:59:57</td>\n",
       "      <td>CRD</td>\n",
       "      <td>5.0</td>\n",
       "      <td>0.5</td>\n",
       "      <td>0.5</td>\n",
       "      <td>1.5</td>\n",
       "      <td>0.0</td>\n",
       "      <td>7.5</td>\n",
       "    </tr>\n",
       "    <tr>\n",
       "      <th>3519776</th>\n",
       "      <td>12497919</td>\n",
       "      <td>23A3564F3D4A361A3D3F8D8FE8E7D2FF</td>\n",
       "      <td>90C3F339879C9E6C61805622382881D5</td>\n",
       "      <td>CMT</td>\n",
       "      <td>2013-04-07 23:59:58</td>\n",
       "      <td>CSH</td>\n",
       "      <td>5.0</td>\n",
       "      <td>0.5</td>\n",
       "      <td>0.5</td>\n",
       "      <td>0.0</td>\n",
       "      <td>0.0</td>\n",
       "      <td>6.0</td>\n",
       "    </tr>\n",
       "    <tr>\n",
       "      <th>3519777</th>\n",
       "      <td>12490214</td>\n",
       "      <td>291758BBCA44E8AFF6554E526B423A39</td>\n",
       "      <td>5647761721D488C1F671072B01AA83F5</td>\n",
       "      <td>CMT</td>\n",
       "      <td>2013-04-07 23:59:59</td>\n",
       "      <td>CSH</td>\n",
       "      <td>8.5</td>\n",
       "      <td>0.5</td>\n",
       "      <td>0.5</td>\n",
       "      <td>0.0</td>\n",
       "      <td>0.0</td>\n",
       "      <td>9.5</td>\n",
       "    </tr>\n",
       "  </tbody>\n",
       "</table>\n",
       "</div>"
      ],
      "text/plain": [
       "            index                         medallion                      hack_license vendor_id      pickup_datetime payment_type  fare_amount  surcharge  mta_tax  tip_amount  tolls_amount  total_amount\n",
       "3519773  10926424  D5AF01D58DA48FFF46169C232017673F  BBB0371651B842361E8068F803BD5AFE       CMT  2013-04-07 23:59:56          CRD         22.0        0.5      0.5         4.6           0.0          27.6\n",
       "3519774  10943237  7E64B77A336CD52A4A081F1B0066954C  6452FBD410A159B4A3E17C7EA4FE7293       CMT  2013-04-07 23:59:56          CRD          7.0        0.5      0.5         1.6           0.0           9.6\n",
       "3519775  10694065  6AC551DA4299581A398D8A9D0AC7C25F  541BC740DB8088C1AB92D770F664D8EC       CMT  2013-04-07 23:59:57          CRD          5.0        0.5      0.5         1.5           0.0           7.5\n",
       "3519776  12497919  23A3564F3D4A361A3D3F8D8FE8E7D2FF  90C3F339879C9E6C61805622382881D5       CMT  2013-04-07 23:59:58          CSH          5.0        0.5      0.5         0.0           0.0           6.0\n",
       "3519777  12490214  291758BBCA44E8AFF6554E526B423A39  5647761721D488C1F671072B01AA83F5       CMT  2013-04-07 23:59:59          CSH          8.5        0.5      0.5         0.0           0.0           9.5"
      ]
     },
     "execution_count": 26,
     "metadata": {},
     "output_type": "execute_result"
    }
   ],
   "source": [
    "# Connect to the existing fleetriskdb\n",
    "con = sqlite3.connect('./DB/nyctaxidb.sqlite')\n",
    "# Confirm data is being returned from this query\n",
    "fare_data_df = pd.read_sql_query(query_string2, con)\n",
    "# Verify that result of SQL query is stored in the dataframe\n",
    "fare_data_df.tail()"
   ]
  },
  {
   "cell_type": "code",
   "execution_count": 27,
   "metadata": {
    "collapsed": true
   },
   "outputs": [],
   "source": [
    "con.close()"
   ]
  },
  {
   "cell_type": "code",
   "execution_count": 28,
   "metadata": {},
   "outputs": [
    {
     "data": {
      "text/plain": [
       "3519778"
      ]
     },
     "execution_count": 28,
     "metadata": {},
     "output_type": "execute_result"
    }
   ],
   "source": [
    "fare_data_df.shape[0]"
   ]
  },
  {
   "cell_type": "markdown",
   "metadata": {},
   "source": [
    "## Scrub fares data for outliers, if any."
   ]
  },
  {
   "cell_type": "code",
   "execution_count": 29,
   "metadata": {},
   "outputs": [
    {
     "data": {
      "text/plain": [
       "index              0\n",
       "medallion          0\n",
       "hack_license       0\n",
       "vendor_id          0\n",
       "pickup_datetime    0\n",
       "payment_type       0\n",
       "fare_amount        0\n",
       "surcharge          0\n",
       "mta_tax            0\n",
       "tip_amount         0\n",
       "tolls_amount       0\n",
       "total_amount       0\n",
       "dtype: int64"
      ]
     },
     "execution_count": 29,
     "metadata": {},
     "output_type": "execute_result"
    }
   ],
   "source": [
    "# Check for nulls\n",
    "fares_df = fare_data_df.copy()\n",
    "fares_df.isnull().sum()"
   ]
  },
  {
   "cell_type": "code",
   "execution_count": 30,
   "metadata": {},
   "outputs": [
    {
     "name": "stdout",
     "output_type": "stream",
     "text": [
      "<class 'pandas.core.frame.DataFrame'>\n",
      "RangeIndex: 3519778 entries, 0 to 3519777\n",
      "Data columns (total 12 columns):\n",
      "index              int64\n",
      "medallion          object\n",
      "hack_license       object\n",
      "vendor_id          object\n",
      "pickup_datetime    object\n",
      "payment_type       object\n",
      "fare_amount        float64\n",
      "surcharge          float64\n",
      "mta_tax            float64\n",
      "tip_amount         float64\n",
      "tolls_amount       float64\n",
      "total_amount       float64\n",
      "dtypes: float64(6), int64(1), object(5)\n",
      "memory usage: 322.2+ MB\n"
     ]
    }
   ],
   "source": [
    "fares_df.info()"
   ]
  },
  {
   "cell_type": "code",
   "execution_count": 31,
   "metadata": {},
   "outputs": [
    {
     "data": {
      "text/html": [
       "<div>\n",
       "<style>\n",
       "    .dataframe thead tr:only-child th {\n",
       "        text-align: right;\n",
       "    }\n",
       "\n",
       "    .dataframe thead th {\n",
       "        text-align: left;\n",
       "    }\n",
       "\n",
       "    .dataframe tbody tr th {\n",
       "        vertical-align: top;\n",
       "    }\n",
       "</style>\n",
       "<table border=\"1\" class=\"dataframe\">\n",
       "  <thead>\n",
       "    <tr style=\"text-align: right;\">\n",
       "      <th></th>\n",
       "      <th>index</th>\n",
       "      <th>fare_amount</th>\n",
       "      <th>surcharge</th>\n",
       "      <th>mta_tax</th>\n",
       "      <th>tip_amount</th>\n",
       "      <th>tolls_amount</th>\n",
       "      <th>total_amount</th>\n",
       "    </tr>\n",
       "  </thead>\n",
       "  <tbody>\n",
       "    <tr>\n",
       "      <th>count</th>\n",
       "      <td>3.519778e+06</td>\n",
       "      <td>3.519778e+06</td>\n",
       "      <td>3.519778e+06</td>\n",
       "      <td>3.519778e+06</td>\n",
       "      <td>3.519778e+06</td>\n",
       "      <td>3.519778e+06</td>\n",
       "      <td>3.519778e+06</td>\n",
       "    </tr>\n",
       "    <tr>\n",
       "      <th>mean</th>\n",
       "      <td>1.159818e+07</td>\n",
       "      <td>1.229869e+01</td>\n",
       "      <td>3.269240e-01</td>\n",
       "      <td>4.983878e-01</td>\n",
       "      <td>1.316532e+00</td>\n",
       "      <td>2.341252e-01</td>\n",
       "      <td>1.467465e+01</td>\n",
       "    </tr>\n",
       "    <tr>\n",
       "      <th>std</th>\n",
       "      <td>2.685839e+06</td>\n",
       "      <td>9.934238e+00</td>\n",
       "      <td>3.659935e-01</td>\n",
       "      <td>2.834588e-02</td>\n",
       "      <td>2.094621e+00</td>\n",
       "      <td>1.158645e+00</td>\n",
       "      <td>1.182919e+01</td>\n",
       "    </tr>\n",
       "    <tr>\n",
       "      <th>min</th>\n",
       "      <td>0.000000e+00</td>\n",
       "      <td>2.500000e+00</td>\n",
       "      <td>0.000000e+00</td>\n",
       "      <td>0.000000e+00</td>\n",
       "      <td>0.000000e+00</td>\n",
       "      <td>0.000000e+00</td>\n",
       "      <td>2.500000e+00</td>\n",
       "    </tr>\n",
       "    <tr>\n",
       "      <th>25%</th>\n",
       "      <td>1.095133e+07</td>\n",
       "      <td>6.500000e+00</td>\n",
       "      <td>0.000000e+00</td>\n",
       "      <td>5.000000e-01</td>\n",
       "      <td>0.000000e+00</td>\n",
       "      <td>0.000000e+00</td>\n",
       "      <td>8.000000e+00</td>\n",
       "    </tr>\n",
       "    <tr>\n",
       "      <th>50%</th>\n",
       "      <td>1.189630e+07</td>\n",
       "      <td>9.500000e+00</td>\n",
       "      <td>0.000000e+00</td>\n",
       "      <td>5.000000e-01</td>\n",
       "      <td>9.000000e-01</td>\n",
       "      <td>0.000000e+00</td>\n",
       "      <td>1.100000e+01</td>\n",
       "    </tr>\n",
       "    <tr>\n",
       "      <th>75%</th>\n",
       "      <td>1.362739e+07</td>\n",
       "      <td>1.400000e+01</td>\n",
       "      <td>5.000000e-01</td>\n",
       "      <td>5.000000e-01</td>\n",
       "      <td>2.000000e+00</td>\n",
       "      <td>0.000000e+00</td>\n",
       "      <td>1.650000e+01</td>\n",
       "    </tr>\n",
       "    <tr>\n",
       "      <th>max</th>\n",
       "      <td>1.471133e+07</td>\n",
       "      <td>5.000000e+02</td>\n",
       "      <td>1.500000e+01</td>\n",
       "      <td>5.000000e-01</td>\n",
       "      <td>1.600000e+02</td>\n",
       "      <td>2.000000e+01</td>\n",
       "      <td>5.100000e+02</td>\n",
       "    </tr>\n",
       "  </tbody>\n",
       "</table>\n",
       "</div>"
      ],
      "text/plain": [
       "              index   fare_amount     surcharge       mta_tax    tip_amount  tolls_amount  total_amount\n",
       "count  3.519778e+06  3.519778e+06  3.519778e+06  3.519778e+06  3.519778e+06  3.519778e+06  3.519778e+06\n",
       "mean   1.159818e+07  1.229869e+01  3.269240e-01  4.983878e-01  1.316532e+00  2.341252e-01  1.467465e+01\n",
       "std    2.685839e+06  9.934238e+00  3.659935e-01  2.834588e-02  2.094621e+00  1.158645e+00  1.182919e+01\n",
       "min    0.000000e+00  2.500000e+00  0.000000e+00  0.000000e+00  0.000000e+00  0.000000e+00  2.500000e+00\n",
       "25%    1.095133e+07  6.500000e+00  0.000000e+00  5.000000e-01  0.000000e+00  0.000000e+00  8.000000e+00\n",
       "50%    1.189630e+07  9.500000e+00  0.000000e+00  5.000000e-01  9.000000e-01  0.000000e+00  1.100000e+01\n",
       "75%    1.362739e+07  1.400000e+01  5.000000e-01  5.000000e-01  2.000000e+00  0.000000e+00  1.650000e+01\n",
       "max    1.471133e+07  5.000000e+02  1.500000e+01  5.000000e-01  1.600000e+02  2.000000e+01  5.100000e+02"
      ]
     },
     "execution_count": 31,
     "metadata": {},
     "output_type": "execute_result"
    }
   ],
   "source": [
    "# Need to look into $500 fare!\n",
    "fares_df.describe()"
   ]
  },
  {
   "cell_type": "code",
   "execution_count": 32,
   "metadata": {},
   "outputs": [
    {
     "data": {
      "text/plain": [
       "(3443103, 14)"
      ]
     },
     "execution_count": 32,
     "metadata": {},
     "output_type": "execute_result"
    }
   ],
   "source": [
    "trips_df.shape"
   ]
  },
  {
   "cell_type": "code",
   "execution_count": 33,
   "metadata": {},
   "outputs": [
    {
     "data": {
      "text/plain": [
       "(3519778, 12)"
      ]
     },
     "execution_count": 33,
     "metadata": {},
     "output_type": "execute_result"
    }
   ],
   "source": [
    "fares_df.shape"
   ]
  },
  {
   "cell_type": "markdown",
   "metadata": {},
   "source": [
    "## Merge Trips and Fares tables together\n",
    "---"
   ]
  },
  {
   "cell_type": "code",
   "execution_count": 34,
   "metadata": {},
   "outputs": [
    {
     "data": {
      "text/html": [
       "<div>\n",
       "<style>\n",
       "    .dataframe thead tr:only-child th {\n",
       "        text-align: right;\n",
       "    }\n",
       "\n",
       "    .dataframe thead th {\n",
       "        text-align: left;\n",
       "    }\n",
       "\n",
       "    .dataframe tbody tr th {\n",
       "        vertical-align: top;\n",
       "    }\n",
       "</style>\n",
       "<table border=\"1\" class=\"dataframe\">\n",
       "  <thead>\n",
       "    <tr style=\"text-align: right;\">\n",
       "      <th></th>\n",
       "      <th>medallion</th>\n",
       "      <th>hack_license</th>\n",
       "      <th>vendor_id</th>\n",
       "      <th>rate_code</th>\n",
       "      <th>pickup_datetime</th>\n",
       "      <th>dropoff_datetime</th>\n",
       "      <th>passenger_count</th>\n",
       "      <th>trip_time_in_secs</th>\n",
       "      <th>trip_distance</th>\n",
       "      <th>pickup_longitude</th>\n",
       "      <th>pickup_latitude</th>\n",
       "      <th>dropoff_longitude</th>\n",
       "      <th>dropoff_latitude</th>\n",
       "      <th>payment_type</th>\n",
       "      <th>fare_amount</th>\n",
       "      <th>surcharge</th>\n",
       "      <th>mta_tax</th>\n",
       "      <th>tip_amount</th>\n",
       "      <th>tolls_amount</th>\n",
       "      <th>total_amount</th>\n",
       "    </tr>\n",
       "  </thead>\n",
       "  <tbody>\n",
       "    <tr>\n",
       "      <th>0</th>\n",
       "      <td>52BC28EAABDDC48741F825000D738850</td>\n",
       "      <td>DA77BDC1BC5CFD0E31613E7E2FF4EA24</td>\n",
       "      <td>CMT</td>\n",
       "      <td>1</td>\n",
       "      <td>2013-04-01 00:00:00</td>\n",
       "      <td>2013-04-01 00:10:32</td>\n",
       "      <td>1</td>\n",
       "      <td>632</td>\n",
       "      <td>3.40</td>\n",
       "      <td>-73.993500</td>\n",
       "      <td>40.746933</td>\n",
       "      <td>-73.956322</td>\n",
       "      <td>40.773064</td>\n",
       "      <td>CRD</td>\n",
       "      <td>12.0</td>\n",
       "      <td>0.5</td>\n",
       "      <td>0.5</td>\n",
       "      <td>2.6</td>\n",
       "      <td>0.00</td>\n",
       "      <td>15.60</td>\n",
       "    </tr>\n",
       "    <tr>\n",
       "      <th>1</th>\n",
       "      <td>13048646BCF94CC2F5CB4EF34CE50527</td>\n",
       "      <td>975649E3088B0D2BD2DE377B49B0898D</td>\n",
       "      <td>VTS</td>\n",
       "      <td>1</td>\n",
       "      <td>2013-04-01 00:00:00</td>\n",
       "      <td>2013-04-01 00:31:00</td>\n",
       "      <td>4</td>\n",
       "      <td>1860</td>\n",
       "      <td>20.27</td>\n",
       "      <td>-73.776657</td>\n",
       "      <td>40.645325</td>\n",
       "      <td>-73.978203</td>\n",
       "      <td>40.673931</td>\n",
       "      <td>CRD</td>\n",
       "      <td>54.0</td>\n",
       "      <td>0.5</td>\n",
       "      <td>0.5</td>\n",
       "      <td>10.0</td>\n",
       "      <td>0.00</td>\n",
       "      <td>65.00</td>\n",
       "    </tr>\n",
       "    <tr>\n",
       "      <th>2</th>\n",
       "      <td>B8733215A7E6A22EB832EEAEA731D3CB</td>\n",
       "      <td>66707B80913E62642A6C2E0BFEE45955</td>\n",
       "      <td>VTS</td>\n",
       "      <td>1</td>\n",
       "      <td>2013-04-01 00:00:00</td>\n",
       "      <td>2013-04-01 00:35:00</td>\n",
       "      <td>1</td>\n",
       "      <td>2100</td>\n",
       "      <td>10.29</td>\n",
       "      <td>-73.917908</td>\n",
       "      <td>40.770863</td>\n",
       "      <td>-73.899574</td>\n",
       "      <td>40.754028</td>\n",
       "      <td>CSH</td>\n",
       "      <td>34.0</td>\n",
       "      <td>0.5</td>\n",
       "      <td>0.5</td>\n",
       "      <td>0.0</td>\n",
       "      <td>0.00</td>\n",
       "      <td>35.00</td>\n",
       "    </tr>\n",
       "    <tr>\n",
       "      <th>3</th>\n",
       "      <td>6BB78818AFB34080166D1FB349EA2550</td>\n",
       "      <td>77A573BE341A4B887C566895F87B7D1C</td>\n",
       "      <td>VTS</td>\n",
       "      <td>5</td>\n",
       "      <td>2013-04-01 00:00:00</td>\n",
       "      <td>2013-04-01 00:32:00</td>\n",
       "      <td>4</td>\n",
       "      <td>1920</td>\n",
       "      <td>5.12</td>\n",
       "      <td>-73.987328</td>\n",
       "      <td>40.750397</td>\n",
       "      <td>-74.042847</td>\n",
       "      <td>40.720066</td>\n",
       "      <td>CSH</td>\n",
       "      <td>45.0</td>\n",
       "      <td>0.0</td>\n",
       "      <td>0.5</td>\n",
       "      <td>0.0</td>\n",
       "      <td>10.25</td>\n",
       "      <td>55.75</td>\n",
       "    </tr>\n",
       "    <tr>\n",
       "      <th>4</th>\n",
       "      <td>D80FD255D1921207A256F30136F4DBB2</td>\n",
       "      <td>871954A11B0687C7C43B0E782AAEC9F1</td>\n",
       "      <td>VTS</td>\n",
       "      <td>1</td>\n",
       "      <td>2013-04-01 00:00:00</td>\n",
       "      <td>2013-04-01 00:04:00</td>\n",
       "      <td>4</td>\n",
       "      <td>240</td>\n",
       "      <td>0.97</td>\n",
       "      <td>-73.959290</td>\n",
       "      <td>40.719727</td>\n",
       "      <td>-73.966736</td>\n",
       "      <td>40.710716</td>\n",
       "      <td>CRD</td>\n",
       "      <td>5.0</td>\n",
       "      <td>0.5</td>\n",
       "      <td>0.5</td>\n",
       "      <td>1.1</td>\n",
       "      <td>0.00</td>\n",
       "      <td>7.10</td>\n",
       "    </tr>\n",
       "  </tbody>\n",
       "</table>\n",
       "</div>"
      ],
      "text/plain": [
       "                          medallion                      hack_license vendor_id  rate_code      pickup_datetime     dropoff_datetime  passenger_count  trip_time_in_secs  trip_distance  pickup_longitude  pickup_latitude  dropoff_longitude  dropoff_latitude payment_type  fare_amount  surcharge  mta_tax  tip_amount  tolls_amount  total_amount\n",
       "0  52BC28EAABDDC48741F825000D738850  DA77BDC1BC5CFD0E31613E7E2FF4EA24       CMT          1  2013-04-01 00:00:00  2013-04-01 00:10:32                1                632           3.40        -73.993500        40.746933         -73.956322         40.773064          CRD         12.0        0.5      0.5         2.6          0.00         15.60\n",
       "1  13048646BCF94CC2F5CB4EF34CE50527  975649E3088B0D2BD2DE377B49B0898D       VTS          1  2013-04-01 00:00:00  2013-04-01 00:31:00                4               1860          20.27        -73.776657        40.645325         -73.978203         40.673931          CRD         54.0        0.5      0.5        10.0          0.00         65.00\n",
       "2  B8733215A7E6A22EB832EEAEA731D3CB  66707B80913E62642A6C2E0BFEE45955       VTS          1  2013-04-01 00:00:00  2013-04-01 00:35:00                1               2100          10.29        -73.917908        40.770863         -73.899574         40.754028          CSH         34.0        0.5      0.5         0.0          0.00         35.00\n",
       "3  6BB78818AFB34080166D1FB349EA2550  77A573BE341A4B887C566895F87B7D1C       VTS          5  2013-04-01 00:00:00  2013-04-01 00:32:00                4               1920           5.12        -73.987328        40.750397         -74.042847         40.720066          CSH         45.0        0.0      0.5         0.0         10.25         55.75\n",
       "4  D80FD255D1921207A256F30136F4DBB2  871954A11B0687C7C43B0E782AAEC9F1       VTS          1  2013-04-01 00:00:00  2013-04-01 00:04:00                4                240           0.97        -73.959290        40.719727         -73.966736         40.710716          CRD          5.0        0.5      0.5         1.1          0.00          7.10"
      ]
     },
     "execution_count": 34,
     "metadata": {},
     "output_type": "execute_result"
    }
   ],
   "source": [
    "taxi_df = trips_df.merge(fares_df, on=['medallion','hack_license','vendor_id','pickup_datetime'], how='inner')\n",
    "taxi_df = taxi_df.drop(['index_x', 'index_y'], axis=1)\n",
    "taxi_df.head()"
   ]
  },
  {
   "cell_type": "code",
   "execution_count": 35,
   "metadata": {},
   "outputs": [
    {
     "name": "stdout",
     "output_type": "stream",
     "text": [
      "<class 'pandas.core.frame.DataFrame'>\n",
      "Int64Index: 3443103 entries, 0 to 3443102\n",
      "Data columns (total 20 columns):\n",
      "medallion            object\n",
      "hack_license         object\n",
      "vendor_id            object\n",
      "rate_code            int64\n",
      "pickup_datetime      object\n",
      "dropoff_datetime     object\n",
      "passenger_count      int64\n",
      "trip_time_in_secs    int64\n",
      "trip_distance        float64\n",
      "pickup_longitude     float64\n",
      "pickup_latitude      float64\n",
      "dropoff_longitude    float64\n",
      "dropoff_latitude     float64\n",
      "payment_type         object\n",
      "fare_amount          float64\n",
      "surcharge            float64\n",
      "mta_tax              float64\n",
      "tip_amount           float64\n",
      "tolls_amount         float64\n",
      "total_amount         float64\n",
      "dtypes: float64(11), int64(3), object(6)\n",
      "memory usage: 551.6+ MB\n"
     ]
    }
   ],
   "source": [
    "taxi_df.info()"
   ]
  },
  {
   "cell_type": "code",
   "execution_count": 36,
   "metadata": {},
   "outputs": [
    {
     "data": {
      "text/plain": [
       "medallion            0\n",
       "hack_license         0\n",
       "vendor_id            0\n",
       "rate_code            0\n",
       "pickup_datetime      0\n",
       "dropoff_datetime     0\n",
       "passenger_count      0\n",
       "trip_time_in_secs    0\n",
       "trip_distance        0\n",
       "pickup_longitude     0\n",
       "pickup_latitude      0\n",
       "dropoff_longitude    0\n",
       "dropoff_latitude     0\n",
       "payment_type         0\n",
       "fare_amount          0\n",
       "surcharge            0\n",
       "mta_tax              0\n",
       "tip_amount           0\n",
       "tolls_amount         0\n",
       "total_amount         0\n",
       "dtype: int64"
      ]
     },
     "execution_count": 36,
     "metadata": {},
     "output_type": "execute_result"
    }
   ],
   "source": [
    "taxi_df.isnull().sum()"
   ]
  },
  {
   "cell_type": "code",
   "execution_count": 37,
   "metadata": {},
   "outputs": [
    {
     "data": {
      "text/plain": [
       "(3443103, 20)"
      ]
     },
     "execution_count": 37,
     "metadata": {},
     "output_type": "execute_result"
    }
   ],
   "source": [
    "taxi_df.shape"
   ]
  },
  {
   "cell_type": "code",
   "execution_count": 38,
   "metadata": {},
   "outputs": [
    {
     "data": {
      "text/html": [
       "<div>\n",
       "<style>\n",
       "    .dataframe thead tr:only-child th {\n",
       "        text-align: right;\n",
       "    }\n",
       "\n",
       "    .dataframe thead th {\n",
       "        text-align: left;\n",
       "    }\n",
       "\n",
       "    .dataframe tbody tr th {\n",
       "        vertical-align: top;\n",
       "    }\n",
       "</style>\n",
       "<table border=\"1\" class=\"dataframe\">\n",
       "  <thead>\n",
       "    <tr style=\"text-align: right;\">\n",
       "      <th></th>\n",
       "      <th>rate_code</th>\n",
       "      <th>passenger_count</th>\n",
       "      <th>trip_time_in_secs</th>\n",
       "      <th>trip_distance</th>\n",
       "      <th>pickup_longitude</th>\n",
       "      <th>pickup_latitude</th>\n",
       "      <th>dropoff_longitude</th>\n",
       "      <th>dropoff_latitude</th>\n",
       "      <th>fare_amount</th>\n",
       "      <th>surcharge</th>\n",
       "      <th>mta_tax</th>\n",
       "      <th>tip_amount</th>\n",
       "      <th>tolls_amount</th>\n",
       "      <th>total_amount</th>\n",
       "    </tr>\n",
       "  </thead>\n",
       "  <tbody>\n",
       "    <tr>\n",
       "      <th>count</th>\n",
       "      <td>3.443103e+06</td>\n",
       "      <td>3.443103e+06</td>\n",
       "      <td>3.443103e+06</td>\n",
       "      <td>3.443103e+06</td>\n",
       "      <td>3.443103e+06</td>\n",
       "      <td>3.443103e+06</td>\n",
       "      <td>3.443103e+06</td>\n",
       "      <td>3.443103e+06</td>\n",
       "      <td>3.443103e+06</td>\n",
       "      <td>3.443103e+06</td>\n",
       "      <td>3.443103e+06</td>\n",
       "      <td>3.443103e+06</td>\n",
       "      <td>3.443103e+06</td>\n",
       "      <td>3.443103e+06</td>\n",
       "    </tr>\n",
       "    <tr>\n",
       "      <th>mean</th>\n",
       "      <td>1.026733e+00</td>\n",
       "      <td>1.720497e+00</td>\n",
       "      <td>7.534726e+02</td>\n",
       "      <td>2.885307e+00</td>\n",
       "      <td>-7.397570e+01</td>\n",
       "      <td>4.075080e+01</td>\n",
       "      <td>-7.397506e+01</td>\n",
       "      <td>4.075030e+01</td>\n",
       "      <td>1.224068e+01</td>\n",
       "      <td>3.277982e-01</td>\n",
       "      <td>4.988825e-01</td>\n",
       "      <td>1.309928e+00</td>\n",
       "      <td>2.319546e-01</td>\n",
       "      <td>1.460924e+01</td>\n",
       "    </tr>\n",
       "    <tr>\n",
       "      <th>std</th>\n",
       "      <td>2.772240e-01</td>\n",
       "      <td>1.390644e+00</td>\n",
       "      <td>5.534202e+02</td>\n",
       "      <td>3.366879e+00</td>\n",
       "      <td>1.198821e+00</td>\n",
       "      <td>2.493742e-01</td>\n",
       "      <td>1.561811e+00</td>\n",
       "      <td>1.803337e+00</td>\n",
       "      <td>9.629867e+00</td>\n",
       "      <td>3.660147e-01</td>\n",
       "      <td>2.361095e-02</td>\n",
       "      <td>2.047226e+00</td>\n",
       "      <td>1.152023e+00</td>\n",
       "      <td>1.151420e+01</td>\n",
       "    </tr>\n",
       "    <tr>\n",
       "      <th>min</th>\n",
       "      <td>0.000000e+00</td>\n",
       "      <td>1.000000e+00</td>\n",
       "      <td>1.000000e+00</td>\n",
       "      <td>1.000000e-02</td>\n",
       "      <td>-2.032891e+03</td>\n",
       "      <td>-1.577390e+00</td>\n",
       "      <td>-2.032891e+03</td>\n",
       "      <td>-3.281102e+03</td>\n",
       "      <td>2.500000e+00</td>\n",
       "      <td>0.000000e+00</td>\n",
       "      <td>0.000000e+00</td>\n",
       "      <td>0.000000e+00</td>\n",
       "      <td>0.000000e+00</td>\n",
       "      <td>2.500000e+00</td>\n",
       "    </tr>\n",
       "    <tr>\n",
       "      <th>25%</th>\n",
       "      <td>1.000000e+00</td>\n",
       "      <td>1.000000e+00</td>\n",
       "      <td>3.600000e+02</td>\n",
       "      <td>1.050000e+00</td>\n",
       "      <td>-7.399235e+01</td>\n",
       "      <td>4.073622e+01</td>\n",
       "      <td>-7.399167e+01</td>\n",
       "      <td>4.073529e+01</td>\n",
       "      <td>6.500000e+00</td>\n",
       "      <td>0.000000e+00</td>\n",
       "      <td>5.000000e-01</td>\n",
       "      <td>0.000000e+00</td>\n",
       "      <td>0.000000e+00</td>\n",
       "      <td>8.000000e+00</td>\n",
       "    </tr>\n",
       "    <tr>\n",
       "      <th>50%</th>\n",
       "      <td>1.000000e+00</td>\n",
       "      <td>1.000000e+00</td>\n",
       "      <td>6.000000e+02</td>\n",
       "      <td>1.800000e+00</td>\n",
       "      <td>-7.398207e+01</td>\n",
       "      <td>4.075330e+01</td>\n",
       "      <td>-7.398055e+01</td>\n",
       "      <td>4.075382e+01</td>\n",
       "      <td>9.500000e+00</td>\n",
       "      <td>5.000000e-01</td>\n",
       "      <td>5.000000e-01</td>\n",
       "      <td>9.000000e-01</td>\n",
       "      <td>0.000000e+00</td>\n",
       "      <td>1.100000e+01</td>\n",
       "    </tr>\n",
       "    <tr>\n",
       "      <th>75%</th>\n",
       "      <td>1.000000e+00</td>\n",
       "      <td>2.000000e+00</td>\n",
       "      <td>9.600000e+02</td>\n",
       "      <td>3.200000e+00</td>\n",
       "      <td>-7.396788e+01</td>\n",
       "      <td>4.076783e+01</td>\n",
       "      <td>-7.396513e+01</td>\n",
       "      <td>4.076849e+01</td>\n",
       "      <td>1.400000e+01</td>\n",
       "      <td>5.000000e-01</td>\n",
       "      <td>5.000000e-01</td>\n",
       "      <td>2.000000e+00</td>\n",
       "      <td>0.000000e+00</td>\n",
       "      <td>1.650000e+01</td>\n",
       "    </tr>\n",
       "    <tr>\n",
       "      <th>max</th>\n",
       "      <td>2.100000e+02</td>\n",
       "      <td>6.000000e+00</td>\n",
       "      <td>1.074000e+04</td>\n",
       "      <td>1.000000e+02</td>\n",
       "      <td>-1.667000e-03</td>\n",
       "      <td>4.755333e+02</td>\n",
       "      <td>1.428739e+03</td>\n",
       "      <td>4.043787e+02</td>\n",
       "      <td>4.500000e+02</td>\n",
       "      <td>1.500000e+01</td>\n",
       "      <td>5.000000e-01</td>\n",
       "      <td>1.380000e+02</td>\n",
       "      <td>2.000000e+01</td>\n",
       "      <td>4.587900e+02</td>\n",
       "    </tr>\n",
       "  </tbody>\n",
       "</table>\n",
       "</div>"
      ],
      "text/plain": [
       "          rate_code  passenger_count  trip_time_in_secs  trip_distance  pickup_longitude  pickup_latitude  dropoff_longitude  dropoff_latitude   fare_amount     surcharge       mta_tax    tip_amount  tolls_amount  total_amount\n",
       "count  3.443103e+06     3.443103e+06       3.443103e+06   3.443103e+06      3.443103e+06     3.443103e+06       3.443103e+06      3.443103e+06  3.443103e+06  3.443103e+06  3.443103e+06  3.443103e+06  3.443103e+06  3.443103e+06\n",
       "mean   1.026733e+00     1.720497e+00       7.534726e+02   2.885307e+00     -7.397570e+01     4.075080e+01      -7.397506e+01      4.075030e+01  1.224068e+01  3.277982e-01  4.988825e-01  1.309928e+00  2.319546e-01  1.460924e+01\n",
       "std    2.772240e-01     1.390644e+00       5.534202e+02   3.366879e+00      1.198821e+00     2.493742e-01       1.561811e+00      1.803337e+00  9.629867e+00  3.660147e-01  2.361095e-02  2.047226e+00  1.152023e+00  1.151420e+01\n",
       "min    0.000000e+00     1.000000e+00       1.000000e+00   1.000000e-02     -2.032891e+03    -1.577390e+00      -2.032891e+03     -3.281102e+03  2.500000e+00  0.000000e+00  0.000000e+00  0.000000e+00  0.000000e+00  2.500000e+00\n",
       "25%    1.000000e+00     1.000000e+00       3.600000e+02   1.050000e+00     -7.399235e+01     4.073622e+01      -7.399167e+01      4.073529e+01  6.500000e+00  0.000000e+00  5.000000e-01  0.000000e+00  0.000000e+00  8.000000e+00\n",
       "50%    1.000000e+00     1.000000e+00       6.000000e+02   1.800000e+00     -7.398207e+01     4.075330e+01      -7.398055e+01      4.075382e+01  9.500000e+00  5.000000e-01  5.000000e-01  9.000000e-01  0.000000e+00  1.100000e+01\n",
       "75%    1.000000e+00     2.000000e+00       9.600000e+02   3.200000e+00     -7.396788e+01     4.076783e+01      -7.396513e+01      4.076849e+01  1.400000e+01  5.000000e-01  5.000000e-01  2.000000e+00  0.000000e+00  1.650000e+01\n",
       "max    2.100000e+02     6.000000e+00       1.074000e+04   1.000000e+02     -1.667000e-03     4.755333e+02       1.428739e+03      4.043787e+02  4.500000e+02  1.500000e+01  5.000000e-01  1.380000e+02  2.000000e+01  4.587900e+02"
      ]
     },
     "execution_count": 38,
     "metadata": {},
     "output_type": "execute_result"
    }
   ],
   "source": [
    "taxi_df.describe()"
   ]
  },
  {
   "cell_type": "code",
   "execution_count": 39,
   "metadata": {},
   "outputs": [
    {
     "data": {
      "text/html": [
       "<div>\n",
       "<style>\n",
       "    .dataframe thead tr:only-child th {\n",
       "        text-align: right;\n",
       "    }\n",
       "\n",
       "    .dataframe thead th {\n",
       "        text-align: left;\n",
       "    }\n",
       "\n",
       "    .dataframe tbody tr th {\n",
       "        vertical-align: top;\n",
       "    }\n",
       "</style>\n",
       "<table border=\"1\" class=\"dataframe\">\n",
       "  <thead>\n",
       "    <tr style=\"text-align: right;\">\n",
       "      <th></th>\n",
       "      <th>medallion</th>\n",
       "      <th>hack_license</th>\n",
       "      <th>vendor_id</th>\n",
       "      <th>rate_code</th>\n",
       "      <th>pickup_datetime</th>\n",
       "      <th>dropoff_datetime</th>\n",
       "      <th>passenger_count</th>\n",
       "      <th>trip_time_in_secs</th>\n",
       "      <th>trip_distance</th>\n",
       "      <th>pickup_longitude</th>\n",
       "      <th>pickup_latitude</th>\n",
       "      <th>dropoff_longitude</th>\n",
       "      <th>dropoff_latitude</th>\n",
       "      <th>payment_type</th>\n",
       "      <th>fare_amount</th>\n",
       "      <th>surcharge</th>\n",
       "      <th>mta_tax</th>\n",
       "      <th>tip_amount</th>\n",
       "      <th>tolls_amount</th>\n",
       "      <th>total_amount</th>\n",
       "    </tr>\n",
       "  </thead>\n",
       "  <tbody>\n",
       "    <tr>\n",
       "      <th>2439556</th>\n",
       "      <td>29A25AEC480AEF1AFC7F00818D3A3FF5</td>\n",
       "      <td>C31309FBC712658C5E42537A123430F5</td>\n",
       "      <td>CMT</td>\n",
       "      <td>5</td>\n",
       "      <td>2013-04-05 23:06:49</td>\n",
       "      <td>2013-04-05 23:08:29</td>\n",
       "      <td>1</td>\n",
       "      <td>100</td>\n",
       "      <td>0.3</td>\n",
       "      <td>-74.002533</td>\n",
       "      <td>40.724911</td>\n",
       "      <td>-74.002533</td>\n",
       "      <td>40.724911</td>\n",
       "      <td>DIS</td>\n",
       "      <td>450.0</td>\n",
       "      <td>0.0</td>\n",
       "      <td>0.0</td>\n",
       "      <td>0.0</td>\n",
       "      <td>0.0</td>\n",
       "      <td>450.0</td>\n",
       "    </tr>\n",
       "  </tbody>\n",
       "</table>\n",
       "</div>"
      ],
      "text/plain": [
       "                                medallion                      hack_license vendor_id  rate_code      pickup_datetime     dropoff_datetime  passenger_count  trip_time_in_secs  trip_distance  pickup_longitude  pickup_latitude  dropoff_longitude  dropoff_latitude payment_type  fare_amount  surcharge  mta_tax  tip_amount  tolls_amount  total_amount\n",
       "2439556  29A25AEC480AEF1AFC7F00818D3A3FF5  C31309FBC712658C5E42537A123430F5       CMT          5  2013-04-05 23:06:49  2013-04-05 23:08:29                1                100            0.3        -74.002533        40.724911         -74.002533         40.724911          DIS        450.0        0.0      0.0         0.0           0.0         450.0"
      ]
     },
     "execution_count": 39,
     "metadata": {},
     "output_type": "execute_result"
    }
   ],
   "source": [
    "# Max fare amount is $450 - let's investigate\n",
    "taxi_df[taxi_df.fare_amount == 450]"
   ]
  },
  {
   "cell_type": "markdown",
   "metadata": {},
   "source": [
    "Use this data dictionary to determine what these codes mean: http://www.nyc.gov/html/tlc/downloads/pdf/data_dictionary_trip_records_yellow.pdf "
   ]
  },
  {
   "cell_type": "code",
   "execution_count": 40,
   "metadata": {},
   "outputs": [
    {
     "data": {
      "text/plain": [
       "CRD    1822762\n",
       "CSH    1610113\n",
       "NOC       6610\n",
       "DIS       2459\n",
       "UNK       1159\n",
       "Name: payment_type, dtype: int64"
      ]
     },
     "execution_count": 40,
     "metadata": {},
     "output_type": "execute_result"
    }
   ],
   "source": [
    "# Seems like a disputed fare - let's look at different payment types\n",
    "taxi_df.payment_type.value_counts()"
   ]
  },
  {
   "cell_type": "code",
   "execution_count": 41,
   "metadata": {
    "collapsed": true
   },
   "outputs": [],
   "source": [
    "# Let's drop No Charge, Disputed or Unknown payment types\n",
    "taxi_df = taxi_df[(taxi_df.payment_type == 'CRD')|(taxi_df.payment_type == 'CSH')]"
   ]
  },
  {
   "cell_type": "code",
   "execution_count": 42,
   "metadata": {},
   "outputs": [
    {
     "data": {
      "text/html": [
       "<div>\n",
       "<style>\n",
       "    .dataframe thead tr:only-child th {\n",
       "        text-align: right;\n",
       "    }\n",
       "\n",
       "    .dataframe thead th {\n",
       "        text-align: left;\n",
       "    }\n",
       "\n",
       "    .dataframe tbody tr th {\n",
       "        vertical-align: top;\n",
       "    }\n",
       "</style>\n",
       "<table border=\"1\" class=\"dataframe\">\n",
       "  <thead>\n",
       "    <tr style=\"text-align: right;\">\n",
       "      <th></th>\n",
       "      <th>rate_code</th>\n",
       "      <th>passenger_count</th>\n",
       "      <th>trip_time_in_secs</th>\n",
       "      <th>trip_distance</th>\n",
       "      <th>pickup_longitude</th>\n",
       "      <th>pickup_latitude</th>\n",
       "      <th>dropoff_longitude</th>\n",
       "      <th>dropoff_latitude</th>\n",
       "      <th>fare_amount</th>\n",
       "      <th>surcharge</th>\n",
       "      <th>mta_tax</th>\n",
       "      <th>tip_amount</th>\n",
       "      <th>tolls_amount</th>\n",
       "      <th>total_amount</th>\n",
       "    </tr>\n",
       "  </thead>\n",
       "  <tbody>\n",
       "    <tr>\n",
       "      <th>count</th>\n",
       "      <td>3.432875e+06</td>\n",
       "      <td>3.432875e+06</td>\n",
       "      <td>3.432875e+06</td>\n",
       "      <td>3.432875e+06</td>\n",
       "      <td>3.432875e+06</td>\n",
       "      <td>3.432875e+06</td>\n",
       "      <td>3.432875e+06</td>\n",
       "      <td>3.432875e+06</td>\n",
       "      <td>3.432875e+06</td>\n",
       "      <td>3.432875e+06</td>\n",
       "      <td>3.432875e+06</td>\n",
       "      <td>3.432875e+06</td>\n",
       "      <td>3.432875e+06</td>\n",
       "      <td>3.432875e+06</td>\n",
       "    </tr>\n",
       "    <tr>\n",
       "      <th>mean</th>\n",
       "      <td>1.026486e+00</td>\n",
       "      <td>1.721691e+00</td>\n",
       "      <td>7.535479e+02</td>\n",
       "      <td>2.883584e+00</td>\n",
       "      <td>-7.397524e+01</td>\n",
       "      <td>4.075082e+01</td>\n",
       "      <td>-7.397509e+01</td>\n",
       "      <td>4.075032e+01</td>\n",
       "      <td>1.223689e+01</td>\n",
       "      <td>3.277195e-01</td>\n",
       "      <td>4.989000e-01</td>\n",
       "      <td>1.312718e+00</td>\n",
       "      <td>2.317380e-01</td>\n",
       "      <td>1.460797e+01</td>\n",
       "    </tr>\n",
       "    <tr>\n",
       "      <th>std</th>\n",
       "      <td>2.761515e-01</td>\n",
       "      <td>1.391801e+00</td>\n",
       "      <td>5.528630e+02</td>\n",
       "      <td>3.361469e+00</td>\n",
       "      <td>5.632952e-01</td>\n",
       "      <td>2.497386e-01</td>\n",
       "      <td>1.559341e+00</td>\n",
       "      <td>1.805890e+00</td>\n",
       "      <td>9.610168e+00</td>\n",
       "      <td>3.660408e-01</td>\n",
       "      <td>2.342577e-02</td>\n",
       "      <td>2.048105e+00</td>\n",
       "      <td>1.151128e+00</td>\n",
       "      <td>1.149895e+01</td>\n",
       "    </tr>\n",
       "    <tr>\n",
       "      <th>min</th>\n",
       "      <td>0.000000e+00</td>\n",
       "      <td>1.000000e+00</td>\n",
       "      <td>1.000000e+00</td>\n",
       "      <td>1.000000e-02</td>\n",
       "      <td>-7.400233e+02</td>\n",
       "      <td>-1.577390e+00</td>\n",
       "      <td>-2.032891e+03</td>\n",
       "      <td>-3.281102e+03</td>\n",
       "      <td>2.500000e+00</td>\n",
       "      <td>0.000000e+00</td>\n",
       "      <td>0.000000e+00</td>\n",
       "      <td>0.000000e+00</td>\n",
       "      <td>0.000000e+00</td>\n",
       "      <td>2.500000e+00</td>\n",
       "    </tr>\n",
       "    <tr>\n",
       "      <th>25%</th>\n",
       "      <td>1.000000e+00</td>\n",
       "      <td>1.000000e+00</td>\n",
       "      <td>3.600000e+02</td>\n",
       "      <td>1.060000e+00</td>\n",
       "      <td>-7.399235e+01</td>\n",
       "      <td>4.073624e+01</td>\n",
       "      <td>-7.399167e+01</td>\n",
       "      <td>4.073531e+01</td>\n",
       "      <td>6.500000e+00</td>\n",
       "      <td>0.000000e+00</td>\n",
       "      <td>5.000000e-01</td>\n",
       "      <td>0.000000e+00</td>\n",
       "      <td>0.000000e+00</td>\n",
       "      <td>8.000000e+00</td>\n",
       "    </tr>\n",
       "    <tr>\n",
       "      <th>50%</th>\n",
       "      <td>1.000000e+00</td>\n",
       "      <td>1.000000e+00</td>\n",
       "      <td>6.000000e+02</td>\n",
       "      <td>1.800000e+00</td>\n",
       "      <td>-7.398207e+01</td>\n",
       "      <td>4.075331e+01</td>\n",
       "      <td>-7.398056e+01</td>\n",
       "      <td>4.075383e+01</td>\n",
       "      <td>9.500000e+00</td>\n",
       "      <td>5.000000e-01</td>\n",
       "      <td>5.000000e-01</td>\n",
       "      <td>1.000000e+00</td>\n",
       "      <td>0.000000e+00</td>\n",
       "      <td>1.100000e+01</td>\n",
       "    </tr>\n",
       "    <tr>\n",
       "      <th>75%</th>\n",
       "      <td>1.000000e+00</td>\n",
       "      <td>2.000000e+00</td>\n",
       "      <td>9.600000e+02</td>\n",
       "      <td>3.200000e+00</td>\n",
       "      <td>-7.396789e+01</td>\n",
       "      <td>4.076784e+01</td>\n",
       "      <td>-7.396516e+01</td>\n",
       "      <td>4.076850e+01</td>\n",
       "      <td>1.400000e+01</td>\n",
       "      <td>5.000000e-01</td>\n",
       "      <td>5.000000e-01</td>\n",
       "      <td>2.000000e+00</td>\n",
       "      <td>0.000000e+00</td>\n",
       "      <td>1.650000e+01</td>\n",
       "    </tr>\n",
       "    <tr>\n",
       "      <th>max</th>\n",
       "      <td>2.100000e+02</td>\n",
       "      <td>6.000000e+00</td>\n",
       "      <td>1.074000e+04</td>\n",
       "      <td>1.000000e+02</td>\n",
       "      <td>-1.667000e-03</td>\n",
       "      <td>4.755333e+02</td>\n",
       "      <td>1.428739e+03</td>\n",
       "      <td>4.043787e+02</td>\n",
       "      <td>3.700000e+02</td>\n",
       "      <td>1.500000e+01</td>\n",
       "      <td>5.000000e-01</td>\n",
       "      <td>1.380000e+02</td>\n",
       "      <td>2.000000e+01</td>\n",
       "      <td>4.587900e+02</td>\n",
       "    </tr>\n",
       "  </tbody>\n",
       "</table>\n",
       "</div>"
      ],
      "text/plain": [
       "          rate_code  passenger_count  trip_time_in_secs  trip_distance  pickup_longitude  pickup_latitude  dropoff_longitude  dropoff_latitude   fare_amount     surcharge       mta_tax    tip_amount  tolls_amount  total_amount\n",
       "count  3.432875e+06     3.432875e+06       3.432875e+06   3.432875e+06      3.432875e+06     3.432875e+06       3.432875e+06      3.432875e+06  3.432875e+06  3.432875e+06  3.432875e+06  3.432875e+06  3.432875e+06  3.432875e+06\n",
       "mean   1.026486e+00     1.721691e+00       7.535479e+02   2.883584e+00     -7.397524e+01     4.075082e+01      -7.397509e+01      4.075032e+01  1.223689e+01  3.277195e-01  4.989000e-01  1.312718e+00  2.317380e-01  1.460797e+01\n",
       "std    2.761515e-01     1.391801e+00       5.528630e+02   3.361469e+00      5.632952e-01     2.497386e-01       1.559341e+00      1.805890e+00  9.610168e+00  3.660408e-01  2.342577e-02  2.048105e+00  1.151128e+00  1.149895e+01\n",
       "min    0.000000e+00     1.000000e+00       1.000000e+00   1.000000e-02     -7.400233e+02    -1.577390e+00      -2.032891e+03     -3.281102e+03  2.500000e+00  0.000000e+00  0.000000e+00  0.000000e+00  0.000000e+00  2.500000e+00\n",
       "25%    1.000000e+00     1.000000e+00       3.600000e+02   1.060000e+00     -7.399235e+01     4.073624e+01      -7.399167e+01      4.073531e+01  6.500000e+00  0.000000e+00  5.000000e-01  0.000000e+00  0.000000e+00  8.000000e+00\n",
       "50%    1.000000e+00     1.000000e+00       6.000000e+02   1.800000e+00     -7.398207e+01     4.075331e+01      -7.398056e+01      4.075383e+01  9.500000e+00  5.000000e-01  5.000000e-01  1.000000e+00  0.000000e+00  1.100000e+01\n",
       "75%    1.000000e+00     2.000000e+00       9.600000e+02   3.200000e+00     -7.396789e+01     4.076784e+01      -7.396516e+01      4.076850e+01  1.400000e+01  5.000000e-01  5.000000e-01  2.000000e+00  0.000000e+00  1.650000e+01\n",
       "max    2.100000e+02     6.000000e+00       1.074000e+04   1.000000e+02     -1.667000e-03     4.755333e+02       1.428739e+03      4.043787e+02  3.700000e+02  1.500000e+01  5.000000e-01  1.380000e+02  2.000000e+01  4.587900e+02"
      ]
     },
     "execution_count": 42,
     "metadata": {},
     "output_type": "execute_result"
    }
   ],
   "source": [
    "taxi_df.describe()"
   ]
  },
  {
   "cell_type": "code",
   "execution_count": 43,
   "metadata": {},
   "outputs": [
    {
     "data": {
      "text/html": [
       "<div>\n",
       "<style>\n",
       "    .dataframe thead tr:only-child th {\n",
       "        text-align: right;\n",
       "    }\n",
       "\n",
       "    .dataframe thead th {\n",
       "        text-align: left;\n",
       "    }\n",
       "\n",
       "    .dataframe tbody tr th {\n",
       "        vertical-align: top;\n",
       "    }\n",
       "</style>\n",
       "<table border=\"1\" class=\"dataframe\">\n",
       "  <thead>\n",
       "    <tr style=\"text-align: right;\">\n",
       "      <th></th>\n",
       "      <th>medallion</th>\n",
       "      <th>hack_license</th>\n",
       "      <th>vendor_id</th>\n",
       "      <th>rate_code</th>\n",
       "      <th>pickup_datetime</th>\n",
       "      <th>dropoff_datetime</th>\n",
       "      <th>passenger_count</th>\n",
       "      <th>trip_time_in_secs</th>\n",
       "      <th>trip_distance</th>\n",
       "      <th>pickup_longitude</th>\n",
       "      <th>pickup_latitude</th>\n",
       "      <th>dropoff_longitude</th>\n",
       "      <th>dropoff_latitude</th>\n",
       "      <th>payment_type</th>\n",
       "      <th>fare_amount</th>\n",
       "      <th>surcharge</th>\n",
       "      <th>mta_tax</th>\n",
       "      <th>tip_amount</th>\n",
       "      <th>tolls_amount</th>\n",
       "      <th>total_amount</th>\n",
       "    </tr>\n",
       "  </thead>\n",
       "  <tbody>\n",
       "    <tr>\n",
       "      <th>1965348</th>\n",
       "      <td>1B3CA7B98CE463E246FF7DE600E09B17</td>\n",
       "      <td>0E425DA7D802BFEE9467AF0D5B654327</td>\n",
       "      <td>CMT</td>\n",
       "      <td>5</td>\n",
       "      <td>2013-04-05 02:16:52</td>\n",
       "      <td>2013-04-05 03:45:06</td>\n",
       "      <td>1</td>\n",
       "      <td>5292</td>\n",
       "      <td>80.3</td>\n",
       "      <td>-73.781075</td>\n",
       "      <td>40.644943</td>\n",
       "      <td>-72.927521</td>\n",
       "      <td>41.305489</td>\n",
       "      <td>CRD</td>\n",
       "      <td>370.0</td>\n",
       "      <td>0.0</td>\n",
       "      <td>0.0</td>\n",
       "      <td>76.46</td>\n",
       "      <td>12.33</td>\n",
       "      <td>458.79</td>\n",
       "    </tr>\n",
       "  </tbody>\n",
       "</table>\n",
       "</div>"
      ],
      "text/plain": [
       "                                medallion                      hack_license vendor_id  rate_code      pickup_datetime     dropoff_datetime  passenger_count  trip_time_in_secs  trip_distance  pickup_longitude  pickup_latitude  dropoff_longitude  dropoff_latitude payment_type  fare_amount  surcharge  mta_tax  tip_amount  tolls_amount  total_amount\n",
       "1965348  1B3CA7B98CE463E246FF7DE600E09B17  0E425DA7D802BFEE9467AF0D5B654327       CMT          5  2013-04-05 02:16:52  2013-04-05 03:45:06                1               5292           80.3        -73.781075        40.644943         -72.927521         41.305489          CRD        370.0        0.0      0.0       76.46         12.33        458.79"
      ]
     },
     "execution_count": 43,
     "metadata": {},
     "output_type": "execute_result"
    }
   ],
   "source": [
    "# Max fare amount is $370 - let's investigate\n",
    "taxi_df[taxi_df.fare_amount == 370]"
   ]
  },
  {
   "cell_type": "markdown",
   "metadata": {},
   "source": [
    "## 1. What is the distribution of the number of passengers per trip?"
   ]
  },
  {
   "cell_type": "code",
   "execution_count": 44,
   "metadata": {},
   "outputs": [
    {
     "data": {
      "text/plain": [
       "1    2415819\n",
       "2     455933\n",
       "5     205809\n",
       "3     144070\n",
       "6     138217\n",
       "4      73027\n",
       "Name: passenger_count, dtype: int64"
      ]
     },
     "execution_count": 44,
     "metadata": {},
     "output_type": "execute_result"
    }
   ],
   "source": [
    "taxi_df.passenger_count.value_counts()"
   ]
  },
  {
   "cell_type": "code",
   "execution_count": 45,
   "metadata": {},
   "outputs": [
    {
     "data": {
      "text/plain": [
       "count    3.432875e+06\n",
       "mean     1.721691e+00\n",
       "std      1.391801e+00\n",
       "min      1.000000e+00\n",
       "25%      1.000000e+00\n",
       "50%      1.000000e+00\n",
       "75%      2.000000e+00\n",
       "max      6.000000e+00\n",
       "Name: passenger_count, dtype: float64"
      ]
     },
     "execution_count": 45,
     "metadata": {},
     "output_type": "execute_result"
    }
   ],
   "source": [
    "taxi_df.passenger_count.describe()"
   ]
  },
  {
   "cell_type": "code",
   "execution_count": 46,
   "metadata": {},
   "outputs": [
    {
     "data": {
      "text/plain": [
       "0    1\n",
       "dtype: int64"
      ]
     },
     "execution_count": 46,
     "metadata": {},
     "output_type": "execute_result"
    }
   ],
   "source": [
    "taxi_df.passenger_count.mode()"
   ]
  },
  {
   "cell_type": "code",
   "execution_count": 47,
   "metadata": {},
   "outputs": [
    {
     "data": {
      "image/png": "[encoded data removed]",
      "text/plain": [
       "<matplotlib.figure.Figure at 0x10ed77b50>"
      ]
     },
     "metadata": {
      "image/png": {
       "height": 287,
       "width": 405
      }
     },
     "output_type": "display_data"
    }
   ],
   "source": [
    "fig, ax = plt.subplots(figsize=(6,4))\n",
    "fig.suptitle('Most cab rides are for a single passenger')\n",
    "ax = sns.countplot(x='passenger_count', data = taxi_df, palette = 'colorblind', ax=ax)\n",
    "ax.set_xlabel('Number of Passengers')\n",
    "ax.set_ylabel('Number of Trips in a week')\n",
    "plt.ticklabel_format(style='plain', axis='y')\n",
    "None"
   ]
  },
  {
   "cell_type": "markdown",
   "metadata": {},
   "source": [
    "## 2. What is the distribution of payment type?"
   ]
  },
  {
   "cell_type": "code",
   "execution_count": 48,
   "metadata": {},
   "outputs": [
    {
     "data": {
      "text/html": [
       "<div>\n",
       "<style>\n",
       "    .dataframe thead tr:only-child th {\n",
       "        text-align: right;\n",
       "    }\n",
       "\n",
       "    .dataframe thead th {\n",
       "        text-align: left;\n",
       "    }\n",
       "\n",
       "    .dataframe tbody tr th {\n",
       "        vertical-align: top;\n",
       "    }\n",
       "</style>\n",
       "<table border=\"1\" class=\"dataframe\">\n",
       "  <thead>\n",
       "    <tr style=\"text-align: right;\">\n",
       "      <th></th>\n",
       "      <th>Type</th>\n",
       "      <th>Frequency</th>\n",
       "    </tr>\n",
       "  </thead>\n",
       "  <tbody>\n",
       "    <tr>\n",
       "      <th>0</th>\n",
       "      <td>CRD</td>\n",
       "      <td>1822762</td>\n",
       "    </tr>\n",
       "    <tr>\n",
       "      <th>1</th>\n",
       "      <td>CSH</td>\n",
       "      <td>1610113</td>\n",
       "    </tr>\n",
       "  </tbody>\n",
       "</table>\n",
       "</div>"
      ],
      "text/plain": [
       "  Type  Frequency\n",
       "0  CRD    1822762\n",
       "1  CSH    1610113"
      ]
     },
     "execution_count": 48,
     "metadata": {},
     "output_type": "execute_result"
    }
   ],
   "source": [
    "a = taxi_df.payment_type.value_counts()\n",
    "a = a.to_frame().reset_index()\n",
    "a = a.rename(columns={'index':'Type', 'payment_type':'Frequency'})\n",
    "a_df = a\n",
    "a_df"
   ]
  },
  {
   "cell_type": "code",
   "execution_count": 49,
   "metadata": {
    "collapsed": true
   },
   "outputs": [],
   "source": [
    "# Could have used a dictionary here instead\n",
    "a_df = a_df.replace('CRD','Credit Card')\n",
    "a_df = a_df.replace('CSH','Cash')\n",
    "#a_df = a_df.replace('NOC','No Charge')\n",
    "#a_df = a_df.replace('DIS', 'Dispute')\n",
    "#a_df = a_df.replace('UNK','Unknown')\n",
    "a_df.set_index('Type', inplace=True)"
   ]
  },
  {
   "cell_type": "code",
   "execution_count": 50,
   "metadata": {},
   "outputs": [
    {
     "data": {
      "image/png": "[encoded data removed]",
      "text/plain": [
       "<matplotlib.figure.Figure at 0x128b02d10>"
      ]
     },
     "metadata": {
      "image/png": {
       "height": 273,
       "width": 405
      }
     },
     "output_type": "display_data"
    }
   ],
   "source": [
    "fig, ax = plt.subplots(figsize=(6,4))\n",
    "ax = a_df.plot(kind='bar', cmap='Accent', legend=False, rot=0, ax=ax)\n",
    "ax.set_xlabel('')\n",
    "ax.set_ylabel('Number of Trips')\n",
    "fig.suptitle('Most passengers pay with credit card but cash is still popular')\n",
    "plt.ticklabel_format(style='plain', axis='y')\n",
    "None"
   ]
  },
  {
   "cell_type": "markdown",
   "metadata": {
    "collapsed": true
   },
   "source": [
    "## 3. What is the distribution of the fare amount?"
   ]
  },
  {
   "cell_type": "code",
   "execution_count": 51,
   "metadata": {},
   "outputs": [
    {
     "data": {
      "image/png": "[encoded data removed]",
      "text/plain": [
       "<matplotlib.figure.Figure at 0x11218dfd0>"
      ]
     },
     "metadata": {
      "image/png": {
       "height": 246,
       "width": 372
      }
     },
     "output_type": "display_data"
    }
   ],
   "source": [
    "(fig, ax) = plt.subplots()\n",
    "ax = sns.kdeplot(taxi_df.fare_amount, legend=False, ax=ax)\n",
    "None"
   ]
  },
  {
   "cell_type": "code",
   "execution_count": 52,
   "metadata": {},
   "outputs": [
    {
     "data": {
      "image/png": "[encoded data removed]",
      "text/plain": [
       "<matplotlib.figure.Figure at 0x114675ed0>"
      ]
     },
     "metadata": {
      "image/png": {
       "height": 244,
       "width": 363
      }
     },
     "output_type": "display_data"
    }
   ],
   "source": [
    "taxi_df[taxi_df.fare_amount<25].boxplot('fare_amount')\n",
    "None"
   ]
  },
  {
   "cell_type": "code",
   "execution_count": 53,
   "metadata": {},
   "outputs": [
    {
     "data": {
      "image/png": "[encoded data removed]",
      "text/plain": [
       "<matplotlib.figure.Figure at 0x10fba9a50>"
      ]
     },
     "metadata": {
      "image/png": {
       "height": 244,
       "width": 369
      }
     },
     "output_type": "display_data"
    }
   ],
   "source": [
    "taxi_df[(taxi_df.fare_amount>=25)&(taxi_df.fare_amount<100)].boxplot('fare_amount')\n",
    "None"
   ]
  },
  {
   "cell_type": "code",
   "execution_count": 54,
   "metadata": {},
   "outputs": [
    {
     "data": {
      "image/png": "[encoded data removed]",
      "text/plain": [
       "<matplotlib.figure.Figure at 0x1128fd7d0>"
      ]
     },
     "metadata": {
      "image/png": {
       "height": 244,
       "width": 369
      }
     },
     "output_type": "display_data"
    }
   ],
   "source": [
    "taxi_df[taxi_df.fare_amount>100].boxplot('fare_amount')\n",
    "None"
   ]
  },
  {
   "cell_type": "markdown",
   "metadata": {},
   "source": [
    "## 4. What is the distribution of the tip amount?"
   ]
  },
  {
   "cell_type": "code",
   "execution_count": 55,
   "metadata": {},
   "outputs": [
    {
     "data": {
      "image/png": "[encoded data removed]",
      "text/plain": [
       "<matplotlib.figure.Figure at 0x11ace5c90>"
      ]
     },
     "metadata": {
      "image/png": {
       "height": 244,
       "width": 372
      }
     },
     "output_type": "display_data"
    }
   ],
   "source": [
    "(fig, ax) = plt.subplots()\n",
    "ax = sns.kdeplot(taxi_df.tip_amount, legend=False, ax=ax)\n",
    "None"
   ]
  },
  {
   "cell_type": "markdown",
   "metadata": {},
   "source": [
    "## 5. What is the distribution of the Total Amount?"
   ]
  },
  {
   "cell_type": "code",
   "execution_count": 56,
   "metadata": {},
   "outputs": [
    {
     "data": {
      "image/png": "[encoded data removed]",
      "text/plain": [
       "<matplotlib.figure.Figure at 0x11b2e0450>"
      ]
     },
     "metadata": {
      "image/png": {
       "height": 244,
       "width": 372
      }
     },
     "output_type": "display_data"
    }
   ],
   "source": [
    "(fig, ax) = plt.subplots()\n",
    "ax = sns.kdeplot(taxi_df.total_amount, legend=False, ax=ax)\n",
    "None"
   ]
  },
  {
   "cell_type": "markdown",
   "metadata": {},
   "source": [
    "## 6. What are the top 5 busiest hours of the day?"
   ]
  },
  {
   "cell_type": "code",
   "execution_count": 57,
   "metadata": {},
   "outputs": [
    {
     "data": {
      "text/html": [
       "<div>\n",
       "<style>\n",
       "    .dataframe thead tr:only-child th {\n",
       "        text-align: right;\n",
       "    }\n",
       "\n",
       "    .dataframe thead th {\n",
       "        text-align: left;\n",
       "    }\n",
       "\n",
       "    .dataframe tbody tr th {\n",
       "        vertical-align: top;\n",
       "    }\n",
       "</style>\n",
       "<table border=\"1\" class=\"dataframe\">\n",
       "  <thead>\n",
       "    <tr style=\"text-align: right;\">\n",
       "      <th></th>\n",
       "      <th>medallion</th>\n",
       "      <th>hack_license</th>\n",
       "      <th>vendor_id</th>\n",
       "      <th>rate_code</th>\n",
       "      <th>pickup_datetime</th>\n",
       "      <th>dropoff_datetime</th>\n",
       "      <th>passenger_count</th>\n",
       "      <th>trip_time_in_secs</th>\n",
       "      <th>trip_distance</th>\n",
       "      <th>pickup_longitude</th>\n",
       "      <th>pickup_latitude</th>\n",
       "      <th>dropoff_longitude</th>\n",
       "      <th>dropoff_latitude</th>\n",
       "      <th>payment_type</th>\n",
       "      <th>fare_amount</th>\n",
       "      <th>surcharge</th>\n",
       "      <th>mta_tax</th>\n",
       "      <th>tip_amount</th>\n",
       "      <th>tolls_amount</th>\n",
       "      <th>total_amount</th>\n",
       "    </tr>\n",
       "  </thead>\n",
       "  <tbody>\n",
       "    <tr>\n",
       "      <th>0</th>\n",
       "      <td>52BC28EAABDDC48741F825000D738850</td>\n",
       "      <td>DA77BDC1BC5CFD0E31613E7E2FF4EA24</td>\n",
       "      <td>CMT</td>\n",
       "      <td>1</td>\n",
       "      <td>2013-04-01</td>\n",
       "      <td>2013-04-01 00:10:32</td>\n",
       "      <td>1</td>\n",
       "      <td>632</td>\n",
       "      <td>3.40</td>\n",
       "      <td>-73.993500</td>\n",
       "      <td>40.746933</td>\n",
       "      <td>-73.956322</td>\n",
       "      <td>40.773064</td>\n",
       "      <td>CRD</td>\n",
       "      <td>12.0</td>\n",
       "      <td>0.5</td>\n",
       "      <td>0.5</td>\n",
       "      <td>2.6</td>\n",
       "      <td>0.00</td>\n",
       "      <td>15.60</td>\n",
       "    </tr>\n",
       "    <tr>\n",
       "      <th>1</th>\n",
       "      <td>13048646BCF94CC2F5CB4EF34CE50527</td>\n",
       "      <td>975649E3088B0D2BD2DE377B49B0898D</td>\n",
       "      <td>VTS</td>\n",
       "      <td>1</td>\n",
       "      <td>2013-04-01</td>\n",
       "      <td>2013-04-01 00:31:00</td>\n",
       "      <td>4</td>\n",
       "      <td>1860</td>\n",
       "      <td>20.27</td>\n",
       "      <td>-73.776657</td>\n",
       "      <td>40.645325</td>\n",
       "      <td>-73.978203</td>\n",
       "      <td>40.673931</td>\n",
       "      <td>CRD</td>\n",
       "      <td>54.0</td>\n",
       "      <td>0.5</td>\n",
       "      <td>0.5</td>\n",
       "      <td>10.0</td>\n",
       "      <td>0.00</td>\n",
       "      <td>65.00</td>\n",
       "    </tr>\n",
       "    <tr>\n",
       "      <th>2</th>\n",
       "      <td>B8733215A7E6A22EB832EEAEA731D3CB</td>\n",
       "      <td>66707B80913E62642A6C2E0BFEE45955</td>\n",
       "      <td>VTS</td>\n",
       "      <td>1</td>\n",
       "      <td>2013-04-01</td>\n",
       "      <td>2013-04-01 00:35:00</td>\n",
       "      <td>1</td>\n",
       "      <td>2100</td>\n",
       "      <td>10.29</td>\n",
       "      <td>-73.917908</td>\n",
       "      <td>40.770863</td>\n",
       "      <td>-73.899574</td>\n",
       "      <td>40.754028</td>\n",
       "      <td>CSH</td>\n",
       "      <td>34.0</td>\n",
       "      <td>0.5</td>\n",
       "      <td>0.5</td>\n",
       "      <td>0.0</td>\n",
       "      <td>0.00</td>\n",
       "      <td>35.00</td>\n",
       "    </tr>\n",
       "    <tr>\n",
       "      <th>3</th>\n",
       "      <td>6BB78818AFB34080166D1FB349EA2550</td>\n",
       "      <td>77A573BE341A4B887C566895F87B7D1C</td>\n",
       "      <td>VTS</td>\n",
       "      <td>5</td>\n",
       "      <td>2013-04-01</td>\n",
       "      <td>2013-04-01 00:32:00</td>\n",
       "      <td>4</td>\n",
       "      <td>1920</td>\n",
       "      <td>5.12</td>\n",
       "      <td>-73.987328</td>\n",
       "      <td>40.750397</td>\n",
       "      <td>-74.042847</td>\n",
       "      <td>40.720066</td>\n",
       "      <td>CSH</td>\n",
       "      <td>45.0</td>\n",
       "      <td>0.0</td>\n",
       "      <td>0.5</td>\n",
       "      <td>0.0</td>\n",
       "      <td>10.25</td>\n",
       "      <td>55.75</td>\n",
       "    </tr>\n",
       "    <tr>\n",
       "      <th>4</th>\n",
       "      <td>D80FD255D1921207A256F30136F4DBB2</td>\n",
       "      <td>871954A11B0687C7C43B0E782AAEC9F1</td>\n",
       "      <td>VTS</td>\n",
       "      <td>1</td>\n",
       "      <td>2013-04-01</td>\n",
       "      <td>2013-04-01 00:04:00</td>\n",
       "      <td>4</td>\n",
       "      <td>240</td>\n",
       "      <td>0.97</td>\n",
       "      <td>-73.959290</td>\n",
       "      <td>40.719727</td>\n",
       "      <td>-73.966736</td>\n",
       "      <td>40.710716</td>\n",
       "      <td>CRD</td>\n",
       "      <td>5.0</td>\n",
       "      <td>0.5</td>\n",
       "      <td>0.5</td>\n",
       "      <td>1.1</td>\n",
       "      <td>0.00</td>\n",
       "      <td>7.10</td>\n",
       "    </tr>\n",
       "  </tbody>\n",
       "</table>\n",
       "</div>"
      ],
      "text/plain": [
       "                          medallion                      hack_license vendor_id  rate_code pickup_datetime    dropoff_datetime  passenger_count  trip_time_in_secs  trip_distance  pickup_longitude  pickup_latitude  dropoff_longitude  dropoff_latitude payment_type  fare_amount  surcharge  mta_tax  tip_amount  tolls_amount  total_amount\n",
       "0  52BC28EAABDDC48741F825000D738850  DA77BDC1BC5CFD0E31613E7E2FF4EA24       CMT          1      2013-04-01 2013-04-01 00:10:32                1                632           3.40        -73.993500        40.746933         -73.956322         40.773064          CRD         12.0        0.5      0.5         2.6          0.00         15.60\n",
       "1  13048646BCF94CC2F5CB4EF34CE50527  975649E3088B0D2BD2DE377B49B0898D       VTS          1      2013-04-01 2013-04-01 00:31:00                4               1860          20.27        -73.776657        40.645325         -73.978203         40.673931          CRD         54.0        0.5      0.5        10.0          0.00         65.00\n",
       "2  B8733215A7E6A22EB832EEAEA731D3CB  66707B80913E62642A6C2E0BFEE45955       VTS          1      2013-04-01 2013-04-01 00:35:00                1               2100          10.29        -73.917908        40.770863         -73.899574         40.754028          CSH         34.0        0.5      0.5         0.0          0.00         35.00\n",
       "3  6BB78818AFB34080166D1FB349EA2550  77A573BE341A4B887C566895F87B7D1C       VTS          5      2013-04-01 2013-04-01 00:32:00                4               1920           5.12        -73.987328        40.750397         -74.042847         40.720066          CSH         45.0        0.0      0.5         0.0         10.25         55.75\n",
       "4  D80FD255D1921207A256F30136F4DBB2  871954A11B0687C7C43B0E782AAEC9F1       VTS          1      2013-04-01 2013-04-01 00:04:00                4                240           0.97        -73.959290        40.719727         -73.966736         40.710716          CRD          5.0        0.5      0.5         1.1          0.00          7.10"
      ]
     },
     "execution_count": 57,
     "metadata": {},
     "output_type": "execute_result"
    }
   ],
   "source": [
    "# Convert pickup_datetime and dropoff_datetime to datetime format\n",
    "taxi_df['pickup_datetime'] = pd.to_datetime(taxi_df['pickup_datetime'])\n",
    "taxi_df['dropoff_datetime'] = pd.to_datetime(taxi_df['dropoff_datetime'])\n",
    "taxi_df.head()"
   ]
  },
  {
   "cell_type": "code",
   "execution_count": 58,
   "metadata": {},
   "outputs": [
    {
     "data": {
      "text/plain": [
       "pickup_datetime\n",
       "19    367150\n",
       "20    362376\n",
       "18    355777\n",
       "21    354772\n",
       "22    345277\n",
       "23    303510\n",
       "14    297275\n",
       "12    292031\n",
       "15    286956\n",
       "17    285963\n",
       "13    285859\n",
       "11    278948\n",
       "9     272587\n",
       "10    266487\n",
       "8     259570\n",
       "16    237002\n",
       "0     232151\n",
       "7     207476\n",
       "1     169089\n",
       "2     127599\n",
       "6     110077\n",
       "3      94017\n",
       "4      66716\n",
       "5      51685\n",
       "Name: passenger_count, dtype: int64"
      ]
     },
     "execution_count": 58,
     "metadata": {},
     "output_type": "execute_result"
    }
   ],
   "source": [
    "# Use pickup datetime to determine hour e.g. if someone was picked up at 23:15:16, they were picked up at 2300 hours\n",
    "taxi_df.groupby(taxi_df.pickup_datetime.dt.hour)['passenger_count'].sum().sort_values(ascending=False)"
   ]
  },
  {
   "cell_type": "code",
   "execution_count": 59,
   "metadata": {},
   "outputs": [
    {
     "data": {
      "text/html": [
       "<div>\n",
       "<style>\n",
       "    .dataframe thead tr:only-child th {\n",
       "        text-align: right;\n",
       "    }\n",
       "\n",
       "    .dataframe thead th {\n",
       "        text-align: left;\n",
       "    }\n",
       "\n",
       "    .dataframe tbody tr th {\n",
       "        vertical-align: top;\n",
       "    }\n",
       "</style>\n",
       "<table border=\"1\" class=\"dataframe\">\n",
       "  <thead>\n",
       "    <tr style=\"text-align: right;\">\n",
       "      <th></th>\n",
       "      <th>hour</th>\n",
       "      <th>passenger_count</th>\n",
       "    </tr>\n",
       "  </thead>\n",
       "  <tbody>\n",
       "    <tr>\n",
       "      <th>0</th>\n",
       "      <td>19</td>\n",
       "      <td>367150</td>\n",
       "    </tr>\n",
       "    <tr>\n",
       "      <th>1</th>\n",
       "      <td>20</td>\n",
       "      <td>362376</td>\n",
       "    </tr>\n",
       "    <tr>\n",
       "      <th>2</th>\n",
       "      <td>18</td>\n",
       "      <td>355777</td>\n",
       "    </tr>\n",
       "    <tr>\n",
       "      <th>3</th>\n",
       "      <td>21</td>\n",
       "      <td>354772</td>\n",
       "    </tr>\n",
       "    <tr>\n",
       "      <th>4</th>\n",
       "      <td>22</td>\n",
       "      <td>345277</td>\n",
       "    </tr>\n",
       "  </tbody>\n",
       "</table>\n",
       "</div>"
      ],
      "text/plain": [
       "   hour  passenger_count\n",
       "0    19           367150\n",
       "1    20           362376\n",
       "2    18           355777\n",
       "3    21           354772\n",
       "4    22           345277"
      ]
     },
     "execution_count": 59,
     "metadata": {},
     "output_type": "execute_result"
    }
   ],
   "source": [
    "b = taxi_df.groupby(taxi_df.pickup_datetime.dt.hour)['passenger_count'].sum().sort_values(ascending=False).head()\n",
    "b = b.to_frame().reset_index()\n",
    "b = b.rename(columns={'pickup_datetime': 'hour'})\n",
    "b_df = b.copy()\n",
    "b_df"
   ]
  },
  {
   "cell_type": "code",
   "execution_count": 60,
   "metadata": {},
   "outputs": [
    {
     "data": {
      "image/png": "[encoded data removed]",
      "text/plain": [
       "<matplotlib.figure.Figure at 0x11c73f1d0>"
      ]
     },
     "metadata": {
      "image/png": {
       "height": 287,
       "width": 399
      }
     },
     "output_type": "display_data"
    }
   ],
   "source": [
    "fig, ax = plt.subplots(figsize=(6,4))\n",
    "ax = b_df.set_index('hour').plot(kind='bar', colormap='rainbow', legend=False, rot=0, ax=ax)\n",
    "ax.set_xlabel('Hour passenger was picked up')\n",
    "ax.set_ylabel('Number of Passengers')\n",
    "fig.suptitle('When catching a cab, evenings after work/dinner are busiest')\n",
    "plt.ticklabel_format(style='plain', axis='y')\n",
    "None"
   ]
  },
  {
   "cell_type": "markdown",
   "metadata": {},
   "source": [
    "## 7. What are the top 10 busiest locations in the city?"
   ]
  },
  {
   "cell_type": "code",
   "execution_count": 61,
   "metadata": {},
   "outputs": [
    {
     "data": {
      "text/html": [
       "<div>\n",
       "<style>\n",
       "    .dataframe thead tr:only-child th {\n",
       "        text-align: right;\n",
       "    }\n",
       "\n",
       "    .dataframe thead th {\n",
       "        text-align: left;\n",
       "    }\n",
       "\n",
       "    .dataframe tbody tr th {\n",
       "        vertical-align: top;\n",
       "    }\n",
       "</style>\n",
       "<table border=\"1\" class=\"dataframe\">\n",
       "  <thead>\n",
       "    <tr style=\"text-align: right;\">\n",
       "      <th></th>\n",
       "      <th>medallion</th>\n",
       "      <th>hack_license</th>\n",
       "      <th>vendor_id</th>\n",
       "      <th>rate_code</th>\n",
       "      <th>pickup_datetime</th>\n",
       "      <th>dropoff_datetime</th>\n",
       "      <th>passenger_count</th>\n",
       "      <th>trip_time_in_secs</th>\n",
       "      <th>trip_distance</th>\n",
       "      <th>pickup_longitude</th>\n",
       "      <th>pickup_latitude</th>\n",
       "      <th>dropoff_longitude</th>\n",
       "      <th>dropoff_latitude</th>\n",
       "      <th>payment_type</th>\n",
       "      <th>fare_amount</th>\n",
       "      <th>surcharge</th>\n",
       "      <th>mta_tax</th>\n",
       "      <th>tip_amount</th>\n",
       "      <th>tolls_amount</th>\n",
       "      <th>total_amount</th>\n",
       "    </tr>\n",
       "  </thead>\n",
       "  <tbody>\n",
       "    <tr>\n",
       "      <th>3443098</th>\n",
       "      <td>D5AF01D58DA48FFF46169C232017673F</td>\n",
       "      <td>BBB0371651B842361E8068F803BD5AFE</td>\n",
       "      <td>CMT</td>\n",
       "      <td>1</td>\n",
       "      <td>2013-04-07 23:59:56</td>\n",
       "      <td>2013-04-08 00:23:59</td>\n",
       "      <td>1</td>\n",
       "      <td>1443</td>\n",
       "      <td>6.3</td>\n",
       "      <td>-74.002</td>\n",
       "      <td>40.730</td>\n",
       "      <td>-73.954</td>\n",
       "      <td>40.788</td>\n",
       "      <td>CRD</td>\n",
       "      <td>22.0</td>\n",
       "      <td>0.5</td>\n",
       "      <td>0.5</td>\n",
       "      <td>4.6</td>\n",
       "      <td>0.0</td>\n",
       "      <td>27.6</td>\n",
       "    </tr>\n",
       "    <tr>\n",
       "      <th>3443099</th>\n",
       "      <td>7E64B77A336CD52A4A081F1B0066954C</td>\n",
       "      <td>6452FBD410A159B4A3E17C7EA4FE7293</td>\n",
       "      <td>CMT</td>\n",
       "      <td>1</td>\n",
       "      <td>2013-04-07 23:59:56</td>\n",
       "      <td>2013-04-08 00:05:38</td>\n",
       "      <td>1</td>\n",
       "      <td>342</td>\n",
       "      <td>1.4</td>\n",
       "      <td>-73.980</td>\n",
       "      <td>40.776</td>\n",
       "      <td>-73.963</td>\n",
       "      <td>40.764</td>\n",
       "      <td>CRD</td>\n",
       "      <td>7.0</td>\n",
       "      <td>0.5</td>\n",
       "      <td>0.5</td>\n",
       "      <td>1.6</td>\n",
       "      <td>0.0</td>\n",
       "      <td>9.6</td>\n",
       "    </tr>\n",
       "    <tr>\n",
       "      <th>3443100</th>\n",
       "      <td>6AC551DA4299581A398D8A9D0AC7C25F</td>\n",
       "      <td>541BC740DB8088C1AB92D770F664D8EC</td>\n",
       "      <td>CMT</td>\n",
       "      <td>1</td>\n",
       "      <td>2013-04-07 23:59:57</td>\n",
       "      <td>2013-04-08 00:02:25</td>\n",
       "      <td>1</td>\n",
       "      <td>147</td>\n",
       "      <td>1.0</td>\n",
       "      <td>-73.991</td>\n",
       "      <td>40.749</td>\n",
       "      <td>-74.001</td>\n",
       "      <td>40.737</td>\n",
       "      <td>CRD</td>\n",
       "      <td>5.0</td>\n",
       "      <td>0.5</td>\n",
       "      <td>0.5</td>\n",
       "      <td>1.5</td>\n",
       "      <td>0.0</td>\n",
       "      <td>7.5</td>\n",
       "    </tr>\n",
       "    <tr>\n",
       "      <th>3443101</th>\n",
       "      <td>23A3564F3D4A361A3D3F8D8FE8E7D2FF</td>\n",
       "      <td>90C3F339879C9E6C61805622382881D5</td>\n",
       "      <td>CMT</td>\n",
       "      <td>1</td>\n",
       "      <td>2013-04-07 23:59:58</td>\n",
       "      <td>2013-04-08 00:03:37</td>\n",
       "      <td>2</td>\n",
       "      <td>218</td>\n",
       "      <td>0.9</td>\n",
       "      <td>-73.990</td>\n",
       "      <td>40.751</td>\n",
       "      <td>-73.991</td>\n",
       "      <td>40.761</td>\n",
       "      <td>CSH</td>\n",
       "      <td>5.0</td>\n",
       "      <td>0.5</td>\n",
       "      <td>0.5</td>\n",
       "      <td>0.0</td>\n",
       "      <td>0.0</td>\n",
       "      <td>6.0</td>\n",
       "    </tr>\n",
       "    <tr>\n",
       "      <th>3443102</th>\n",
       "      <td>291758BBCA44E8AFF6554E526B423A39</td>\n",
       "      <td>5647761721D488C1F671072B01AA83F5</td>\n",
       "      <td>CMT</td>\n",
       "      <td>1</td>\n",
       "      <td>2013-04-07 23:59:59</td>\n",
       "      <td>2013-04-08 00:07:51</td>\n",
       "      <td>1</td>\n",
       "      <td>471</td>\n",
       "      <td>1.9</td>\n",
       "      <td>-73.989</td>\n",
       "      <td>40.734</td>\n",
       "      <td>-73.987</td>\n",
       "      <td>40.756</td>\n",
       "      <td>CSH</td>\n",
       "      <td>8.5</td>\n",
       "      <td>0.5</td>\n",
       "      <td>0.5</td>\n",
       "      <td>0.0</td>\n",
       "      <td>0.0</td>\n",
       "      <td>9.5</td>\n",
       "    </tr>\n",
       "  </tbody>\n",
       "</table>\n",
       "</div>"
      ],
      "text/plain": [
       "                                medallion                      hack_license vendor_id  rate_code     pickup_datetime    dropoff_datetime  passenger_count  trip_time_in_secs  trip_distance  pickup_longitude  pickup_latitude  dropoff_longitude  dropoff_latitude payment_type  fare_amount  surcharge  mta_tax  tip_amount  tolls_amount  total_amount\n",
       "3443098  D5AF01D58DA48FFF46169C232017673F  BBB0371651B842361E8068F803BD5AFE       CMT          1 2013-04-07 23:59:56 2013-04-08 00:23:59                1               1443            6.3           -74.002           40.730            -73.954            40.788          CRD         22.0        0.5      0.5         4.6           0.0          27.6\n",
       "3443099  7E64B77A336CD52A4A081F1B0066954C  6452FBD410A159B4A3E17C7EA4FE7293       CMT          1 2013-04-07 23:59:56 2013-04-08 00:05:38                1                342            1.4           -73.980           40.776            -73.963            40.764          CRD          7.0        0.5      0.5         1.6           0.0           9.6\n",
       "3443100  6AC551DA4299581A398D8A9D0AC7C25F  541BC740DB8088C1AB92D770F664D8EC       CMT          1 2013-04-07 23:59:57 2013-04-08 00:02:25                1                147            1.0           -73.991           40.749            -74.001            40.737          CRD          5.0        0.5      0.5         1.5           0.0           7.5\n",
       "3443101  23A3564F3D4A361A3D3F8D8FE8E7D2FF  90C3F339879C9E6C61805622382881D5       CMT          1 2013-04-07 23:59:58 2013-04-08 00:03:37                2                218            0.9           -73.990           40.751            -73.991            40.761          CSH          5.0        0.5      0.5         0.0           0.0           6.0\n",
       "3443102  291758BBCA44E8AFF6554E526B423A39  5647761721D488C1F671072B01AA83F5       CMT          1 2013-04-07 23:59:59 2013-04-08 00:07:51                1                471            1.9           -73.989           40.734            -73.987            40.756          CSH          8.5        0.5      0.5         0.0           0.0           9.5"
      ]
     },
     "execution_count": 61,
     "metadata": {},
     "output_type": "execute_result"
    }
   ],
   "source": [
    "# 3 d.p. of precision will suffice\n",
    "taxi_df2 = taxi_df.copy()\n",
    "taxi_df2['pickup_latitude'] = taxi_df2.pickup_latitude.round(3)\n",
    "taxi_df2['pickup_longitude'] = taxi_df2.pickup_longitude.round(3)\n",
    "taxi_df2['dropoff_latitude'] = taxi_df2.dropoff_latitude.round(3)\n",
    "taxi_df2['dropoff_longitude'] = taxi_df2.dropoff_longitude.round(3)\n",
    "taxi_df2.tail()"
   ]
  },
  {
   "cell_type": "code",
   "execution_count": 62,
   "metadata": {},
   "outputs": [
    {
     "data": {
      "text/html": [
       "<div>\n",
       "<style>\n",
       "    .dataframe thead tr:only-child th {\n",
       "        text-align: right;\n",
       "    }\n",
       "\n",
       "    .dataframe thead th {\n",
       "        text-align: left;\n",
       "    }\n",
       "\n",
       "    .dataframe tbody tr th {\n",
       "        vertical-align: top;\n",
       "    }\n",
       "</style>\n",
       "<table border=\"1\" class=\"dataframe\">\n",
       "  <thead>\n",
       "    <tr style=\"text-align: right;\">\n",
       "      <th></th>\n",
       "      <th>medallion</th>\n",
       "      <th>hack_license</th>\n",
       "      <th>vendor_id</th>\n",
       "      <th>rate_code</th>\n",
       "      <th>pickup_datetime</th>\n",
       "      <th>dropoff_datetime</th>\n",
       "      <th>passenger_count</th>\n",
       "      <th>trip_time_in_secs</th>\n",
       "      <th>trip_distance</th>\n",
       "      <th>pickup_longitude</th>\n",
       "      <th>pickup_latitude</th>\n",
       "      <th>dropoff_longitude</th>\n",
       "      <th>dropoff_latitude</th>\n",
       "      <th>payment_type</th>\n",
       "      <th>fare_amount</th>\n",
       "      <th>surcharge</th>\n",
       "      <th>mta_tax</th>\n",
       "      <th>tip_amount</th>\n",
       "      <th>tolls_amount</th>\n",
       "      <th>total_amount</th>\n",
       "      <th>pickup_geocode</th>\n",
       "      <th>dropoff_geocode</th>\n",
       "    </tr>\n",
       "  </thead>\n",
       "  <tbody>\n",
       "    <tr>\n",
       "      <th>3443098</th>\n",
       "      <td>D5AF01D58DA48FFF46169C232017673F</td>\n",
       "      <td>BBB0371651B842361E8068F803BD5AFE</td>\n",
       "      <td>CMT</td>\n",
       "      <td>1</td>\n",
       "      <td>2013-04-07 23:59:56</td>\n",
       "      <td>2013-04-08 00:23:59</td>\n",
       "      <td>1</td>\n",
       "      <td>1443</td>\n",
       "      <td>6.3</td>\n",
       "      <td>-74.002</td>\n",
       "      <td>40.730</td>\n",
       "      <td>-73.954</td>\n",
       "      <td>40.788</td>\n",
       "      <td>CRD</td>\n",
       "      <td>22.0</td>\n",
       "      <td>0.5</td>\n",
       "      <td>0.5</td>\n",
       "      <td>4.6</td>\n",
       "      <td>0.0</td>\n",
       "      <td>27.6</td>\n",
       "      <td>40.73, -74.002</td>\n",
       "      <td>40.788, -73.954</td>\n",
       "    </tr>\n",
       "    <tr>\n",
       "      <th>3443099</th>\n",
       "      <td>7E64B77A336CD52A4A081F1B0066954C</td>\n",
       "      <td>6452FBD410A159B4A3E17C7EA4FE7293</td>\n",
       "      <td>CMT</td>\n",
       "      <td>1</td>\n",
       "      <td>2013-04-07 23:59:56</td>\n",
       "      <td>2013-04-08 00:05:38</td>\n",
       "      <td>1</td>\n",
       "      <td>342</td>\n",
       "      <td>1.4</td>\n",
       "      <td>-73.980</td>\n",
       "      <td>40.776</td>\n",
       "      <td>-73.963</td>\n",
       "      <td>40.764</td>\n",
       "      <td>CRD</td>\n",
       "      <td>7.0</td>\n",
       "      <td>0.5</td>\n",
       "      <td>0.5</td>\n",
       "      <td>1.6</td>\n",
       "      <td>0.0</td>\n",
       "      <td>9.6</td>\n",
       "      <td>40.776, -73.98</td>\n",
       "      <td>40.764, -73.963</td>\n",
       "    </tr>\n",
       "    <tr>\n",
       "      <th>3443100</th>\n",
       "      <td>6AC551DA4299581A398D8A9D0AC7C25F</td>\n",
       "      <td>541BC740DB8088C1AB92D770F664D8EC</td>\n",
       "      <td>CMT</td>\n",
       "      <td>1</td>\n",
       "      <td>2013-04-07 23:59:57</td>\n",
       "      <td>2013-04-08 00:02:25</td>\n",
       "      <td>1</td>\n",
       "      <td>147</td>\n",
       "      <td>1.0</td>\n",
       "      <td>-73.991</td>\n",
       "      <td>40.749</td>\n",
       "      <td>-74.001</td>\n",
       "      <td>40.737</td>\n",
       "      <td>CRD</td>\n",
       "      <td>5.0</td>\n",
       "      <td>0.5</td>\n",
       "      <td>0.5</td>\n",
       "      <td>1.5</td>\n",
       "      <td>0.0</td>\n",
       "      <td>7.5</td>\n",
       "      <td>40.749, -73.991</td>\n",
       "      <td>40.737, -74.001</td>\n",
       "    </tr>\n",
       "    <tr>\n",
       "      <th>3443101</th>\n",
       "      <td>23A3564F3D4A361A3D3F8D8FE8E7D2FF</td>\n",
       "      <td>90C3F339879C9E6C61805622382881D5</td>\n",
       "      <td>CMT</td>\n",
       "      <td>1</td>\n",
       "      <td>2013-04-07 23:59:58</td>\n",
       "      <td>2013-04-08 00:03:37</td>\n",
       "      <td>2</td>\n",
       "      <td>218</td>\n",
       "      <td>0.9</td>\n",
       "      <td>-73.990</td>\n",
       "      <td>40.751</td>\n",
       "      <td>-73.991</td>\n",
       "      <td>40.761</td>\n",
       "      <td>CSH</td>\n",
       "      <td>5.0</td>\n",
       "      <td>0.5</td>\n",
       "      <td>0.5</td>\n",
       "      <td>0.0</td>\n",
       "      <td>0.0</td>\n",
       "      <td>6.0</td>\n",
       "      <td>40.751, -73.99</td>\n",
       "      <td>40.761, -73.991</td>\n",
       "    </tr>\n",
       "    <tr>\n",
       "      <th>3443102</th>\n",
       "      <td>291758BBCA44E8AFF6554E526B423A39</td>\n",
       "      <td>5647761721D488C1F671072B01AA83F5</td>\n",
       "      <td>CMT</td>\n",
       "      <td>1</td>\n",
       "      <td>2013-04-07 23:59:59</td>\n",
       "      <td>2013-04-08 00:07:51</td>\n",
       "      <td>1</td>\n",
       "      <td>471</td>\n",
       "      <td>1.9</td>\n",
       "      <td>-73.989</td>\n",
       "      <td>40.734</td>\n",
       "      <td>-73.987</td>\n",
       "      <td>40.756</td>\n",
       "      <td>CSH</td>\n",
       "      <td>8.5</td>\n",
       "      <td>0.5</td>\n",
       "      <td>0.5</td>\n",
       "      <td>0.0</td>\n",
       "      <td>0.0</td>\n",
       "      <td>9.5</td>\n",
       "      <td>40.734, -73.989</td>\n",
       "      <td>40.756, -73.987</td>\n",
       "    </tr>\n",
       "  </tbody>\n",
       "</table>\n",
       "</div>"
      ],
      "text/plain": [
       "                                medallion                      hack_license vendor_id  rate_code     pickup_datetime    dropoff_datetime  passenger_count  trip_time_in_secs  trip_distance  pickup_longitude  pickup_latitude  dropoff_longitude  dropoff_latitude payment_type  fare_amount  surcharge  mta_tax  tip_amount  tolls_amount  total_amount   pickup_geocode  dropoff_geocode\n",
       "3443098  D5AF01D58DA48FFF46169C232017673F  BBB0371651B842361E8068F803BD5AFE       CMT          1 2013-04-07 23:59:56 2013-04-08 00:23:59                1               1443            6.3           -74.002           40.730            -73.954            40.788          CRD         22.0        0.5      0.5         4.6           0.0          27.6   40.73, -74.002  40.788, -73.954\n",
       "3443099  7E64B77A336CD52A4A081F1B0066954C  6452FBD410A159B4A3E17C7EA4FE7293       CMT          1 2013-04-07 23:59:56 2013-04-08 00:05:38                1                342            1.4           -73.980           40.776            -73.963            40.764          CRD          7.0        0.5      0.5         1.6           0.0           9.6   40.776, -73.98  40.764, -73.963\n",
       "3443100  6AC551DA4299581A398D8A9D0AC7C25F  541BC740DB8088C1AB92D770F664D8EC       CMT          1 2013-04-07 23:59:57 2013-04-08 00:02:25                1                147            1.0           -73.991           40.749            -74.001            40.737          CRD          5.0        0.5      0.5         1.5           0.0           7.5  40.749, -73.991  40.737, -74.001\n",
       "3443101  23A3564F3D4A361A3D3F8D8FE8E7D2FF  90C3F339879C9E6C61805622382881D5       CMT          1 2013-04-07 23:59:58 2013-04-08 00:03:37                2                218            0.9           -73.990           40.751            -73.991            40.761          CSH          5.0        0.5      0.5         0.0           0.0           6.0   40.751, -73.99  40.761, -73.991\n",
       "3443102  291758BBCA44E8AFF6554E526B423A39  5647761721D488C1F671072B01AA83F5       CMT          1 2013-04-07 23:59:59 2013-04-08 00:07:51                1                471            1.9           -73.989           40.734            -73.987            40.756          CSH          8.5        0.5      0.5         0.0           0.0           9.5  40.734, -73.989  40.756, -73.987"
      ]
     },
     "execution_count": 62,
     "metadata": {},
     "output_type": "execute_result"
    }
   ],
   "source": [
    "taxi_df2['pickup_geocode'] = taxi_df2.pickup_latitude.astype(str) + ', ' + taxi_df2.pickup_longitude.astype(str)\n",
    "taxi_df2['dropoff_geocode'] = taxi_df2.dropoff_latitude.astype(str) + ', ' + taxi_df2.dropoff_longitude.astype(str)\n",
    "taxi_df2.tail()"
   ]
  },
  {
   "cell_type": "markdown",
   "metadata": {},
   "source": [
    "## 7a. What are the most popular pickup locations and zipcodes?"
   ]
  },
  {
   "cell_type": "code",
   "execution_count": 63,
   "metadata": {},
   "outputs": [
    {
     "data": {
      "text/html": [
       "<div>\n",
       "<style>\n",
       "    .dataframe thead tr:only-child th {\n",
       "        text-align: right;\n",
       "    }\n",
       "\n",
       "    .dataframe thead th {\n",
       "        text-align: left;\n",
       "    }\n",
       "\n",
       "    .dataframe tbody tr th {\n",
       "        vertical-align: top;\n",
       "    }\n",
       "</style>\n",
       "<table border=\"1\" class=\"dataframe\">\n",
       "  <thead>\n",
       "    <tr style=\"text-align: right;\">\n",
       "      <th></th>\n",
       "      <th>Pickup_Geocode</th>\n",
       "      <th>Number of Trips</th>\n",
       "      <th>address</th>\n",
       "      <th>zipcode</th>\n",
       "    </tr>\n",
       "  </thead>\n",
       "  <tbody>\n",
       "    <tr>\n",
       "      <th>0</th>\n",
       "      <td>40.751, -73.994</td>\n",
       "      <td>14708</td>\n",
       "      <td>MSG, 46, West 31st Street, Manhattan Community Board 4, New York County, NYC, New York, NY 10001, United States of America</td>\n",
       "      <td>10001</td>\n",
       "    </tr>\n",
       "    <tr>\n",
       "      <th>1</th>\n",
       "      <td>40.769, -73.863</td>\n",
       "      <td>13567</td>\n",
       "      <td>East Elmhurst, Queens County, NYC, New York, 11368, United States of America</td>\n",
       "      <td>11368</td>\n",
       "    </tr>\n",
       "    <tr>\n",
       "      <th>2</th>\n",
       "      <td>40.75, -73.992</td>\n",
       "      <td>13504</td>\n",
       "      <td>Two Penn Plaza, 2, West 33rd Street, Koreatown, Manhattan Community Board 5, New York County, NYC, New York, 10001, United States of America</td>\n",
       "      <td>10001</td>\n",
       "    </tr>\n",
       "    <tr>\n",
       "      <th>3</th>\n",
       "      <td>40.75, -73.991</td>\n",
       "      <td>12324</td>\n",
       "      <td>Hotel Pennsylvania, 401, 7th Avenue, Koreatown, Manhattan Community Board 5, New York County, NYC, New York, 10001-2062, United States of America</td>\n",
       "      <td>10001</td>\n",
       "    </tr>\n",
       "    <tr>\n",
       "      <th>4</th>\n",
       "      <td>40.774, -73.871</td>\n",
       "      <td>11752</td>\n",
       "      <td>Discover NY, Central Terminal Drive, North Beach, Queens County, NYC, New York, 11368, United States of America</td>\n",
       "      <td>11368</td>\n",
       "    </tr>\n",
       "    <tr>\n",
       "      <th>5</th>\n",
       "      <td>40.774, -73.873</td>\n",
       "      <td>10986</td>\n",
       "      <td>HUdson Booksellers, Departures, North Beach, Queens County, NYC, New York, 11368, United States of America</td>\n",
       "      <td>11368</td>\n",
       "    </tr>\n",
       "    <tr>\n",
       "      <th>6</th>\n",
       "      <td>40.757, -73.99</td>\n",
       "      <td>9777</td>\n",
       "      <td>11 Times Square, 11, 8th Avenue, Diamond District, Manhattan Community Board 5, New York County, NYC, New York, 10036, United States of America</td>\n",
       "      <td>10036</td>\n",
       "    </tr>\n",
       "    <tr>\n",
       "      <th>7</th>\n",
       "      <td>40.756, -73.991</td>\n",
       "      <td>9122</td>\n",
       "      <td>Chase, 615, 8th Avenue, Koreatown, Manhattan Community Board 5, New York County, NYC, New York, 10018, United States of America</td>\n",
       "      <td>10018</td>\n",
       "    </tr>\n",
       "    <tr>\n",
       "      <th>8</th>\n",
       "      <td>40.752, -73.978</td>\n",
       "      <td>8905</td>\n",
       "      <td>One Grand Central Place, 120, Park Avenue, Manhattan Community Board 5, New York County, NYC, New York, 10016, United States of America</td>\n",
       "      <td>10016</td>\n",
       "    </tr>\n",
       "    <tr>\n",
       "      <th>9</th>\n",
       "      <td>40.645, -73.782</td>\n",
       "      <td>8513</td>\n",
       "      <td>Terminal 4 Pick-Up D, Terminal 4 Arrivals, Bayswater, Queens County, NYC, New York, 11434, United States of America</td>\n",
       "      <td>11434</td>\n",
       "    </tr>\n",
       "  </tbody>\n",
       "</table>\n",
       "</div>"
      ],
      "text/plain": [
       "    Pickup_Geocode  Number of Trips                                                                                                                                            address  zipcode\n",
       "0  40.751, -73.994            14708                         MSG, 46, West 31st Street, Manhattan Community Board 4, New York County, NYC, New York, NY 10001, United States of America    10001\n",
       "1  40.769, -73.863            13567                                                                       East Elmhurst, Queens County, NYC, New York, 11368, United States of America    11368\n",
       "2   40.75, -73.992            13504       Two Penn Plaza, 2, West 33rd Street, Koreatown, Manhattan Community Board 5, New York County, NYC, New York, 10001, United States of America    10001\n",
       "3   40.75, -73.991            12324  Hotel Pennsylvania, 401, 7th Avenue, Koreatown, Manhattan Community Board 5, New York County, NYC, New York, 10001-2062, United States of America    10001\n",
       "4  40.774, -73.871            11752                                    Discover NY, Central Terminal Drive, North Beach, Queens County, NYC, New York, 11368, United States of America    11368\n",
       "5  40.774, -73.873            10986                                         HUdson Booksellers, Departures, North Beach, Queens County, NYC, New York, 11368, United States of America    11368\n",
       "6   40.757, -73.99             9777    11 Times Square, 11, 8th Avenue, Diamond District, Manhattan Community Board 5, New York County, NYC, New York, 10036, United States of America    10036\n",
       "7  40.756, -73.991             9122                    Chase, 615, 8th Avenue, Koreatown, Manhattan Community Board 5, New York County, NYC, New York, 10018, United States of America    10018\n",
       "8  40.752, -73.978             8905            One Grand Central Place, 120, Park Avenue, Manhattan Community Board 5, New York County, NYC, New York, 10016, United States of America    10016\n",
       "9  40.645, -73.782             8513                                Terminal 4 Pick-Up D, Terminal 4 Arrivals, Bayswater, Queens County, NYC, New York, 11434, United States of America    11434"
      ]
     },
     "execution_count": 63,
     "metadata": {},
     "output_type": "execute_result"
    }
   ],
   "source": [
    "pickup = taxi_df2.groupby('pickup_geocode')['pickup_geocode'].count().sort_values(ascending=False).head(10)\n",
    "pickup = pickup.to_frame().rename(columns={'pickup_geocode':'Number of Trips'}).reset_index()\n",
    "pickup_df = pickup.copy()\n",
    "pickup_df = pickup_df.rename(columns={'pickup_geocode':'Pickup_Geocode'})\n",
    "pickup_df['location'] = pickup_df.Pickup_Geocode.apply(geolocator.reverse)\n",
    "pickup_df['address'] = [i.address for i in pickup_df.location]\n",
    "pickup_df['address'] = pickup_df['address'].astype(str)\n",
    "pickup_df['zipcode'] = pickup_df['address'].str.extract('(\\d{5})', expand=True).astype(int)\n",
    "pickup_df.drop('location',axis=1,inplace=True)\n",
    "pickup_df"
   ]
  },
  {
   "cell_type": "markdown",
   "metadata": {},
   "source": [
    "## 7b. What are the most popular dropoff locations and zipcodes?"
   ]
  },
  {
   "cell_type": "code",
   "execution_count": 64,
   "metadata": {},
   "outputs": [
    {
     "data": {
      "text/html": [
       "<div>\n",
       "<style>\n",
       "    .dataframe thead tr:only-child th {\n",
       "        text-align: right;\n",
       "    }\n",
       "\n",
       "    .dataframe thead th {\n",
       "        text-align: left;\n",
       "    }\n",
       "\n",
       "    .dataframe tbody tr th {\n",
       "        vertical-align: top;\n",
       "    }\n",
       "</style>\n",
       "<table border=\"1\" class=\"dataframe\">\n",
       "  <thead>\n",
       "    <tr style=\"text-align: right;\">\n",
       "      <th></th>\n",
       "      <th>Dropoff_Geocode</th>\n",
       "      <th>Number of Trips</th>\n",
       "      <th>address</th>\n",
       "      <th>zipcode</th>\n",
       "    </tr>\n",
       "  </thead>\n",
       "  <tbody>\n",
       "    <tr>\n",
       "      <th>0</th>\n",
       "      <td>40.75, -73.991</td>\n",
       "      <td>13543</td>\n",
       "      <td>Hotel Pennsylvania, 401, 7th Avenue, Koreatown, Manhattan Community Board 5, New York County, NYC, New York, 10001-2062, United States of America</td>\n",
       "      <td>10001</td>\n",
       "    </tr>\n",
       "    <tr>\n",
       "      <th>1</th>\n",
       "      <td>40.75, -73.995</td>\n",
       "      <td>10780</td>\n",
       "      <td>410, 8th Avenue, Chelsea, Manhattan Community Board 4, New York County, NYC, New York, 10001, United States of America</td>\n",
       "      <td>10001</td>\n",
       "    </tr>\n",
       "    <tr>\n",
       "      <th>2</th>\n",
       "      <td>40.751, -73.991</td>\n",
       "      <td>9981</td>\n",
       "      <td>200, West 34th Street, Koreatown, Manhattan Community Board 5, New York County, NYC, New York, 10001, United States of America</td>\n",
       "      <td>10001</td>\n",
       "    </tr>\n",
       "    <tr>\n",
       "      <th>3</th>\n",
       "      <td>40.749, -73.992</td>\n",
       "      <td>9890</td>\n",
       "      <td>Emigrant Savings Bank, West 31st Street, Manhattan Community Board 4, New York County, NYC, New York, 10001, United States of America</td>\n",
       "      <td>10001</td>\n",
       "    </tr>\n",
       "    <tr>\n",
       "      <th>4</th>\n",
       "      <td>40.762, -73.979</td>\n",
       "      <td>6150</td>\n",
       "      <td>1321, 6th Avenue, Diamond District, Manhattan Community Board 5, New York County, NYC, New York, 10019, United States of America</td>\n",
       "      <td>10019</td>\n",
       "    </tr>\n",
       "    <tr>\n",
       "      <th>5</th>\n",
       "      <td>40.752, -73.978</td>\n",
       "      <td>6081</td>\n",
       "      <td>One Grand Central Place, 120, Park Avenue, Manhattan Community Board 5, New York County, NYC, New York, 10016, United States of America</td>\n",
       "      <td>10016</td>\n",
       "    </tr>\n",
       "    <tr>\n",
       "      <th>6</th>\n",
       "      <td>40.774, -73.871</td>\n",
       "      <td>5874</td>\n",
       "      <td>Discover NY, Central Terminal Drive, North Beach, Queens County, NYC, New York, 11368, United States of America</td>\n",
       "      <td>11368</td>\n",
       "    </tr>\n",
       "    <tr>\n",
       "      <th>7</th>\n",
       "      <td>40.75, -73.992</td>\n",
       "      <td>5778</td>\n",
       "      <td>Two Penn Plaza, 2, West 33rd Street, Koreatown, Manhattan Community Board 5, New York County, NYC, New York, 10001, United States of America</td>\n",
       "      <td>10001</td>\n",
       "    </tr>\n",
       "    <tr>\n",
       "      <th>8</th>\n",
       "      <td>40.757, -73.99</td>\n",
       "      <td>5644</td>\n",
       "      <td>11 Times Square, 11, 8th Avenue, Diamond District, Manhattan Community Board 5, New York County, NYC, New York, 10036, United States of America</td>\n",
       "      <td>10036</td>\n",
       "    </tr>\n",
       "    <tr>\n",
       "      <th>9</th>\n",
       "      <td>40.752, -73.977</td>\n",
       "      <td>5471</td>\n",
       "      <td>GCT, 89, East 42nd Street, Diamond District, Manhattan Community Board 5, New York County, NYC, New York, 10017, United States of America</td>\n",
       "      <td>10017</td>\n",
       "    </tr>\n",
       "  </tbody>\n",
       "</table>\n",
       "</div>"
      ],
      "text/plain": [
       "   Dropoff_Geocode  Number of Trips                                                                                                                                            address  zipcode\n",
       "0   40.75, -73.991            13543  Hotel Pennsylvania, 401, 7th Avenue, Koreatown, Manhattan Community Board 5, New York County, NYC, New York, 10001-2062, United States of America    10001\n",
       "1   40.75, -73.995            10780                             410, 8th Avenue, Chelsea, Manhattan Community Board 4, New York County, NYC, New York, 10001, United States of America    10001\n",
       "2  40.751, -73.991             9981                     200, West 34th Street, Koreatown, Manhattan Community Board 5, New York County, NYC, New York, 10001, United States of America    10001\n",
       "3  40.749, -73.992             9890              Emigrant Savings Bank, West 31st Street, Manhattan Community Board 4, New York County, NYC, New York, 10001, United States of America    10001\n",
       "4  40.762, -73.979             6150                   1321, 6th Avenue, Diamond District, Manhattan Community Board 5, New York County, NYC, New York, 10019, United States of America    10019\n",
       "5  40.752, -73.978             6081            One Grand Central Place, 120, Park Avenue, Manhattan Community Board 5, New York County, NYC, New York, 10016, United States of America    10016\n",
       "6  40.774, -73.871             5874                                    Discover NY, Central Terminal Drive, North Beach, Queens County, NYC, New York, 11368, United States of America    11368\n",
       "7   40.75, -73.992             5778       Two Penn Plaza, 2, West 33rd Street, Koreatown, Manhattan Community Board 5, New York County, NYC, New York, 10001, United States of America    10001\n",
       "8   40.757, -73.99             5644    11 Times Square, 11, 8th Avenue, Diamond District, Manhattan Community Board 5, New York County, NYC, New York, 10036, United States of America    10036\n",
       "9  40.752, -73.977             5471          GCT, 89, East 42nd Street, Diamond District, Manhattan Community Board 5, New York County, NYC, New York, 10017, United States of America    10017"
      ]
     },
     "execution_count": 64,
     "metadata": {},
     "output_type": "execute_result"
    }
   ],
   "source": [
    "dropoff = taxi_df2.groupby('dropoff_geocode')['dropoff_geocode'].count().sort_values(ascending=False).head(10)\n",
    "dropoff = dropoff.to_frame().rename(columns={'dropoff_geocode':'Number of Trips'}).reset_index()\n",
    "dropoff_df = dropoff.copy()\n",
    "dropoff_df = dropoff_df.rename(columns={'dropoff_geocode':'Dropoff_Geocode'})\n",
    "dropoff_df['location'] = dropoff_df.Dropoff_Geocode.apply(geolocator.reverse)\n",
    "dropoff_df['address'] = [i.address for i in dropoff_df.location]\n",
    "dropoff_df['address'] = dropoff_df['address'].astype(str)\n",
    "dropoff_df['zipcode'] = dropoff_df['address'].str.extract('(\\d{5})', expand=True).astype(int)\n",
    "dropoff_df.drop('location',axis=1,inplace=True)\n",
    "dropoff_df"
   ]
  },
  {
   "cell_type": "markdown",
   "metadata": {
    "collapsed": true
   },
   "source": [
    "## 8. Which trip has the highest standard deviation of travel times?\n",
    "---\n",
    "\n",
    "For each trip, map the pickup and dropoff addresses to zipcodes. Determine the standard deviation of travel times between zipcodes."
   ]
  },
  {
   "cell_type": "code",
   "execution_count": 65,
   "metadata": {},
   "outputs": [
    {
     "data": {
      "image/png": "[encoded data removed]",
      "text/plain": [
       "<matplotlib.figure.Figure at 0x11b2e0c50>"
      ]
     },
     "metadata": {
      "image/png": {
       "height": 244,
       "width": 391
      }
     },
     "output_type": "display_data"
    }
   ],
   "source": [
    "taxi_df2.trip_time_in_secs.hist()\n",
    "None"
   ]
  },
  {
   "cell_type": "code",
   "execution_count": 66,
   "metadata": {},
   "outputs": [
    {
     "data": {
      "text/html": [
       "<div>\n",
       "<style>\n",
       "    .dataframe thead tr:only-child th {\n",
       "        text-align: right;\n",
       "    }\n",
       "\n",
       "    .dataframe thead th {\n",
       "        text-align: left;\n",
       "    }\n",
       "\n",
       "    .dataframe tbody tr th {\n",
       "        vertical-align: top;\n",
       "    }\n",
       "</style>\n",
       "<table border=\"1\" class=\"dataframe\">\n",
       "  <thead>\n",
       "    <tr style=\"text-align: right;\">\n",
       "      <th></th>\n",
       "      <th>medallion</th>\n",
       "      <th>hack_license</th>\n",
       "      <th>vendor_id</th>\n",
       "      <th>rate_code</th>\n",
       "      <th>pickup_datetime</th>\n",
       "      <th>dropoff_datetime</th>\n",
       "      <th>passenger_count</th>\n",
       "      <th>trip_time_in_secs</th>\n",
       "      <th>trip_distance</th>\n",
       "      <th>pickup_longitude</th>\n",
       "      <th>pickup_latitude</th>\n",
       "      <th>dropoff_longitude</th>\n",
       "      <th>dropoff_latitude</th>\n",
       "      <th>payment_type</th>\n",
       "      <th>fare_amount</th>\n",
       "      <th>surcharge</th>\n",
       "      <th>mta_tax</th>\n",
       "      <th>tip_amount</th>\n",
       "      <th>tolls_amount</th>\n",
       "      <th>total_amount</th>\n",
       "      <th>pickup_geocode</th>\n",
       "      <th>dropoff_geocode</th>\n",
       "      <th>route</th>\n",
       "    </tr>\n",
       "  </thead>\n",
       "  <tbody>\n",
       "    <tr>\n",
       "      <th>0</th>\n",
       "      <td>52BC28EAABDDC48741F825000D738850</td>\n",
       "      <td>DA77BDC1BC5CFD0E31613E7E2FF4EA24</td>\n",
       "      <td>CMT</td>\n",
       "      <td>1</td>\n",
       "      <td>2013-04-01</td>\n",
       "      <td>2013-04-01 00:10:32</td>\n",
       "      <td>1</td>\n",
       "      <td>632</td>\n",
       "      <td>3.40</td>\n",
       "      <td>-73.994</td>\n",
       "      <td>40.747</td>\n",
       "      <td>-73.956</td>\n",
       "      <td>40.773</td>\n",
       "      <td>CRD</td>\n",
       "      <td>12.0</td>\n",
       "      <td>0.5</td>\n",
       "      <td>0.5</td>\n",
       "      <td>2.6</td>\n",
       "      <td>0.00</td>\n",
       "      <td>15.60</td>\n",
       "      <td>40.747, -73.994</td>\n",
       "      <td>40.773, -73.956</td>\n",
       "      <td>40.747, -73.994 : 40.773, -73.956</td>\n",
       "    </tr>\n",
       "    <tr>\n",
       "      <th>1</th>\n",
       "      <td>13048646BCF94CC2F5CB4EF34CE50527</td>\n",
       "      <td>975649E3088B0D2BD2DE377B49B0898D</td>\n",
       "      <td>VTS</td>\n",
       "      <td>1</td>\n",
       "      <td>2013-04-01</td>\n",
       "      <td>2013-04-01 00:31:00</td>\n",
       "      <td>4</td>\n",
       "      <td>1860</td>\n",
       "      <td>20.27</td>\n",
       "      <td>-73.777</td>\n",
       "      <td>40.645</td>\n",
       "      <td>-73.978</td>\n",
       "      <td>40.674</td>\n",
       "      <td>CRD</td>\n",
       "      <td>54.0</td>\n",
       "      <td>0.5</td>\n",
       "      <td>0.5</td>\n",
       "      <td>10.0</td>\n",
       "      <td>0.00</td>\n",
       "      <td>65.00</td>\n",
       "      <td>40.645, -73.777</td>\n",
       "      <td>40.674, -73.978</td>\n",
       "      <td>40.645, -73.777 : 40.674, -73.978</td>\n",
       "    </tr>\n",
       "    <tr>\n",
       "      <th>2</th>\n",
       "      <td>B8733215A7E6A22EB832EEAEA731D3CB</td>\n",
       "      <td>66707B80913E62642A6C2E0BFEE45955</td>\n",
       "      <td>VTS</td>\n",
       "      <td>1</td>\n",
       "      <td>2013-04-01</td>\n",
       "      <td>2013-04-01 00:35:00</td>\n",
       "      <td>1</td>\n",
       "      <td>2100</td>\n",
       "      <td>10.29</td>\n",
       "      <td>-73.918</td>\n",
       "      <td>40.771</td>\n",
       "      <td>-73.900</td>\n",
       "      <td>40.754</td>\n",
       "      <td>CSH</td>\n",
       "      <td>34.0</td>\n",
       "      <td>0.5</td>\n",
       "      <td>0.5</td>\n",
       "      <td>0.0</td>\n",
       "      <td>0.00</td>\n",
       "      <td>35.00</td>\n",
       "      <td>40.771, -73.918</td>\n",
       "      <td>40.754, -73.9</td>\n",
       "      <td>40.771, -73.918 : 40.754, -73.9</td>\n",
       "    </tr>\n",
       "    <tr>\n",
       "      <th>3</th>\n",
       "      <td>6BB78818AFB34080166D1FB349EA2550</td>\n",
       "      <td>77A573BE341A4B887C566895F87B7D1C</td>\n",
       "      <td>VTS</td>\n",
       "      <td>5</td>\n",
       "      <td>2013-04-01</td>\n",
       "      <td>2013-04-01 00:32:00</td>\n",
       "      <td>4</td>\n",
       "      <td>1920</td>\n",
       "      <td>5.12</td>\n",
       "      <td>-73.987</td>\n",
       "      <td>40.750</td>\n",
       "      <td>-74.043</td>\n",
       "      <td>40.720</td>\n",
       "      <td>CSH</td>\n",
       "      <td>45.0</td>\n",
       "      <td>0.0</td>\n",
       "      <td>0.5</td>\n",
       "      <td>0.0</td>\n",
       "      <td>10.25</td>\n",
       "      <td>55.75</td>\n",
       "      <td>40.75, -73.987</td>\n",
       "      <td>40.72, -74.043</td>\n",
       "      <td>40.75, -73.987 : 40.72, -74.043</td>\n",
       "    </tr>\n",
       "    <tr>\n",
       "      <th>4</th>\n",
       "      <td>D80FD255D1921207A256F30136F4DBB2</td>\n",
       "      <td>871954A11B0687C7C43B0E782AAEC9F1</td>\n",
       "      <td>VTS</td>\n",
       "      <td>1</td>\n",
       "      <td>2013-04-01</td>\n",
       "      <td>2013-04-01 00:04:00</td>\n",
       "      <td>4</td>\n",
       "      <td>240</td>\n",
       "      <td>0.97</td>\n",
       "      <td>-73.959</td>\n",
       "      <td>40.720</td>\n",
       "      <td>-73.967</td>\n",
       "      <td>40.711</td>\n",
       "      <td>CRD</td>\n",
       "      <td>5.0</td>\n",
       "      <td>0.5</td>\n",
       "      <td>0.5</td>\n",
       "      <td>1.1</td>\n",
       "      <td>0.00</td>\n",
       "      <td>7.10</td>\n",
       "      <td>40.72, -73.959</td>\n",
       "      <td>40.711, -73.967</td>\n",
       "      <td>40.72, -73.959 : 40.711, -73.967</td>\n",
       "    </tr>\n",
       "  </tbody>\n",
       "</table>\n",
       "</div>"
      ],
      "text/plain": [
       "                          medallion                      hack_license vendor_id  rate_code pickup_datetime    dropoff_datetime  passenger_count  trip_time_in_secs  trip_distance  pickup_longitude  pickup_latitude  dropoff_longitude  dropoff_latitude payment_type  fare_amount  surcharge  mta_tax  tip_amount  tolls_amount  total_amount   pickup_geocode  dropoff_geocode                              route\n",
       "0  52BC28EAABDDC48741F825000D738850  DA77BDC1BC5CFD0E31613E7E2FF4EA24       CMT          1      2013-04-01 2013-04-01 00:10:32                1                632           3.40           -73.994           40.747            -73.956            40.773          CRD         12.0        0.5      0.5         2.6          0.00         15.60  40.747, -73.994  40.773, -73.956  40.747, -73.994 : 40.773, -73.956\n",
       "1  13048646BCF94CC2F5CB4EF34CE50527  975649E3088B0D2BD2DE377B49B0898D       VTS          1      2013-04-01 2013-04-01 00:31:00                4               1860          20.27           -73.777           40.645            -73.978            40.674          CRD         54.0        0.5      0.5        10.0          0.00         65.00  40.645, -73.777  40.674, -73.978  40.645, -73.777 : 40.674, -73.978\n",
       "2  B8733215A7E6A22EB832EEAEA731D3CB  66707B80913E62642A6C2E0BFEE45955       VTS          1      2013-04-01 2013-04-01 00:35:00                1               2100          10.29           -73.918           40.771            -73.900            40.754          CSH         34.0        0.5      0.5         0.0          0.00         35.00  40.771, -73.918    40.754, -73.9    40.771, -73.918 : 40.754, -73.9\n",
       "3  6BB78818AFB34080166D1FB349EA2550  77A573BE341A4B887C566895F87B7D1C       VTS          5      2013-04-01 2013-04-01 00:32:00                4               1920           5.12           -73.987           40.750            -74.043            40.720          CSH         45.0        0.0      0.5         0.0         10.25         55.75   40.75, -73.987   40.72, -74.043    40.75, -73.987 : 40.72, -74.043\n",
       "4  D80FD255D1921207A256F30136F4DBB2  871954A11B0687C7C43B0E782AAEC9F1       VTS          1      2013-04-01 2013-04-01 00:04:00                4                240           0.97           -73.959           40.720            -73.967            40.711          CRD          5.0        0.5      0.5         1.1          0.00          7.10   40.72, -73.959  40.711, -73.967   40.72, -73.959 : 40.711, -73.967"
      ]
     },
     "execution_count": 66,
     "metadata": {},
     "output_type": "execute_result"
    }
   ],
   "source": [
    "taxi_df3 = taxi_df2.copy()\n",
    "taxi_df3['route'] = taxi_df3.pickup_geocode + ' : ' + taxi_df3.dropoff_geocode\n",
    "taxi_df3.head()"
   ]
  },
  {
   "cell_type": "code",
   "execution_count": 67,
   "metadata": {},
   "outputs": [
    {
     "data": {
      "text/plain": [
       "route\n",
       "40.759, -73.96 : 40.751, -73.976     6720.342848\n",
       "40.758, -73.988 : 40.758, -73.989    6192.841190\n",
       "40.735, -73.99 : 40.75, -73.992      5624.327338\n",
       "40.647, -73.789 : 40.649, -73.783    5421.402033\n",
       "40.647, -73.789 : 40.645, -73.791    5203.946675\n",
       "40.645, -73.782 : 40.645, -73.788    5133.595231\n",
       "40.76, -73.988 : 40.779, -73.988     5091.168825\n",
       "40.646, -73.791 : 40.75, -73.972     5006.316011\n",
       "40.65, -73.786 : 40.647, -73.79      4951.161682\n",
       "40.644, -73.79 : 40.641, -73.787     4933.484012\n",
       "Name: trip_time_in_secs, dtype: float64"
      ]
     },
     "execution_count": 67,
     "metadata": {},
     "output_type": "execute_result"
    }
   ],
   "source": [
    "## Which trip has the highest standard deviation of travel times?\n",
    "taxi_df3.groupby('route')['trip_time_in_secs'].std().sort_values(ascending=False).head(10)"
   ]
  },
  {
   "cell_type": "code",
   "execution_count": 68,
   "metadata": {
    "collapsed": true
   },
   "outputs": [],
   "source": [
    "# Let's look at a few of these routes..."
   ]
  },
  {
   "cell_type": "code",
   "execution_count": 69,
   "metadata": {},
   "outputs": [
    {
     "name": "stdout",
     "output_type": "stream",
     "text": [
      "Sutton East Tennis Club, Ed Koch Queensboro Bridge Outer Roadway, Upper East Side, Manhattan Community Board 8, New York County, NYC, New York, 10022, United States of America\n"
     ]
    }
   ],
   "source": [
    "start_loc = geolocator.reverse(\"40.759, -73.96\")\n",
    "print start_loc.address"
   ]
  },
  {
   "cell_type": "code",
   "execution_count": 70,
   "metadata": {},
   "outputs": [
    {
     "name": "stdout",
     "output_type": "stream",
     "text": [
      "Socony-Mobil Building, East 41st Street, Diamond District, Manhattan Community Board 5, New York County, NYC, New York, 10017, United States of America\n"
     ]
    }
   ],
   "source": [
    "end_loc = geolocator.reverse(\"40.751, -73.976\")\n",
    "print end_loc.address"
   ]
  },
  {
   "cell_type": "code",
   "execution_count": 71,
   "metadata": {},
   "outputs": [
    {
     "name": "stdout",
     "output_type": "stream",
     "text": [
      "St. James Theatre, 246, West 44th Street, Hell's Kitchen, Manhattan Community Board 5, New York County, NYC, New York, 10036, United States of America\n"
     ]
    }
   ],
   "source": [
    "start_loc = geolocator.reverse(\"40.758, -73.988\")\n",
    "print start_loc.address"
   ]
  },
  {
   "cell_type": "code",
   "execution_count": 72,
   "metadata": {},
   "outputs": [
    {
     "name": "stdout",
     "output_type": "stream",
     "text": [
      "680, 8th Avenue, Diamond District, Manhattan Community Board 5, New York County, NYC, New York, 10036, United States of America\n"
     ]
    }
   ],
   "source": [
    "start_loc = geolocator.reverse(\"40.758, -73.989\")\n",
    "print start_loc.address"
   ]
  },
  {
   "cell_type": "markdown",
   "metadata": {},
   "source": [
    "## 9. Which trip has the most consistent fares?\n",
    "---\n",
    "Looking for those routes where standard deviation of fare amounts is among the lowest"
   ]
  },
  {
   "cell_type": "code",
   "execution_count": 73,
   "metadata": {},
   "outputs": [
    {
     "data": {
      "text/plain": [
       "route\n",
       "40.755, -73.888 : 40.753, -73.906    0.0\n",
       "40.769, -73.985 : 40.716, -74.013    0.0\n",
       "40.732, -73.991 : 40.741, -73.982    0.0\n",
       "40.732, -73.991 : 40.739, -73.987    0.0\n",
       "40.732, -73.991 : 40.735, -74.009    0.0\n",
       "40.769, -73.985 : 40.735, -73.995    0.0\n",
       "40.732, -73.991 : 40.731, -74.001    0.0\n",
       "40.732, -73.991 : 40.729, -73.978    0.0\n",
       "40.769, -73.985 : 40.706, -74.005    0.0\n",
       "40.732, -73.991 : 40.728, -74.0      0.0\n",
       "Name: fare_amount, dtype: float64"
      ]
     },
     "execution_count": 73,
     "metadata": {},
     "output_type": "execute_result"
    }
   ],
   "source": [
    "taxi_df3.groupby('route')['fare_amount'].std().sort_values(ascending=True).head(10)"
   ]
  },
  {
   "cell_type": "code",
   "execution_count": null,
   "metadata": {
    "collapsed": true
   },
   "outputs": [],
   "source": []
  },
  {
   "cell_type": "code",
   "execution_count": null,
   "metadata": {
    "collapsed": true
   },
   "outputs": [],
   "source": []
  },
  {
   "cell_type": "code",
   "execution_count": null,
   "metadata": {
    "collapsed": true
   },
   "outputs": [],
   "source": []
  },
  {
   "cell_type": "markdown",
   "metadata": {},
   "source": [
    "# Pickle Taxi Dataframe for use in modeling notebook"
   ]
  },
  {
   "cell_type": "code",
   "execution_count": 385,
   "metadata": {
    "collapsed": true
   },
   "outputs": [],
   "source": [
    "taxi_df.to_pickle('./DB/nyctaxidf.pickle')"
   ]
  },
  {
   "cell_type": "markdown",
   "metadata": {},
   "source": [
    "# Misc Code - please ignore"
   ]
  },
  {
   "cell_type": "code",
   "execution_count": 155,
   "metadata": {},
   "outputs": [
    {
     "data": {
      "text/plain": [
       "pickup_geocode\n",
       "40.751, -73.994    14765\n",
       "40.769, -73.863    13644\n",
       "40.75, -73.992     13587\n",
       "40.75, -73.991     12395\n",
       "40.774, -73.871    11811\n",
       "40.774, -73.873    11049\n",
       "40.757, -73.99      9816\n",
       "40.756, -73.991     9163\n",
       "40.752, -73.978     8950\n",
       "40.645, -73.782     8742\n",
       "Name: pickup_geocode, dtype: int64"
      ]
     },
     "execution_count": 155,
     "metadata": {},
     "output_type": "execute_result"
    }
   ],
   "source": [
    "# What are the 10 most popular taxicab pickup locations?\n",
    "taxi_df3.groupby('pickup_geocode')['pickup_geocode'].count().sort_values(ascending=False).head(10)"
   ]
  },
  {
   "cell_type": "code",
   "execution_count": 239,
   "metadata": {},
   "outputs": [
    {
     "data": {
      "text/html": [
       "<div>\n",
       "<style>\n",
       "    .dataframe thead tr:only-child th {\n",
       "        text-align: right;\n",
       "    }\n",
       "\n",
       "    .dataframe thead th {\n",
       "        text-align: left;\n",
       "    }\n",
       "\n",
       "    .dataframe tbody tr th {\n",
       "        vertical-align: top;\n",
       "    }\n",
       "</style>\n",
       "<table border=\"1\" class=\"dataframe\">\n",
       "  <thead>\n",
       "    <tr style=\"text-align: right;\">\n",
       "      <th></th>\n",
       "      <th>Dropoff</th>\n",
       "      <th>Number of Trips</th>\n",
       "      <th>address</th>\n",
       "      <th>zipcode</th>\n",
       "    </tr>\n",
       "  </thead>\n",
       "  <tbody>\n",
       "    <tr>\n",
       "      <th>0</th>\n",
       "      <td>40.75, -73.991</td>\n",
       "      <td>13597</td>\n",
       "      <td>Hotel Pennsylvania, 401, 7th Avenue, Koreatown, Manhattan Community Board 5, New York County, NYC, New York, 10001-2062, United States of America</td>\n",
       "      <td>10001</td>\n",
       "    </tr>\n",
       "    <tr>\n",
       "      <th>1</th>\n",
       "      <td>40.75, -73.995</td>\n",
       "      <td>10836</td>\n",
       "      <td>410, 8th Avenue, Chelsea, Manhattan Community Board 4, New York County, NYC, New York, 10001, United States of America</td>\n",
       "      <td>10001</td>\n",
       "    </tr>\n",
       "    <tr>\n",
       "      <th>2</th>\n",
       "      <td>40.751, -73.991</td>\n",
       "      <td>10013</td>\n",
       "      <td>200, West 34th Street, Koreatown, Manhattan Community Board 5, New York County, NYC, New York, 10001, United States of America</td>\n",
       "      <td>10001</td>\n",
       "    </tr>\n",
       "    <tr>\n",
       "      <th>3</th>\n",
       "      <td>40.749, -73.992</td>\n",
       "      <td>9933</td>\n",
       "      <td>Emigrant Savings Bank, West 31st Street, Manhattan Community Board 4, New York County, NYC, New York, 10001, United States of America</td>\n",
       "      <td>10001</td>\n",
       "    </tr>\n",
       "    <tr>\n",
       "      <th>4</th>\n",
       "      <td>40.762, -73.979</td>\n",
       "      <td>6196</td>\n",
       "      <td>1321, 6th Avenue, Diamond District, Manhattan Community Board 5, New York County, NYC, New York, 10019, United States of America</td>\n",
       "      <td>10019</td>\n",
       "    </tr>\n",
       "    <tr>\n",
       "      <th>5</th>\n",
       "      <td>40.752, -73.978</td>\n",
       "      <td>6115</td>\n",
       "      <td>One Grand Central Place, 120, Park Avenue, Manhattan Community Board 5, New York County, NYC, New York, 10016, United States of America</td>\n",
       "      <td>10016</td>\n",
       "    </tr>\n",
       "    <tr>\n",
       "      <th>6</th>\n",
       "      <td>40.774, -73.871</td>\n",
       "      <td>5911</td>\n",
       "      <td>Discover NY, Central Terminal Drive, North Beach, Queens County, NYC, New York, 11368, United States of America</td>\n",
       "      <td>11368</td>\n",
       "    </tr>\n",
       "    <tr>\n",
       "      <th>7</th>\n",
       "      <td>40.75, -73.992</td>\n",
       "      <td>5842</td>\n",
       "      <td>Two Penn Plaza, 2, West 33rd Street, Koreatown, Manhattan Community Board 5, New York County, NYC, New York, 10001, United States of America</td>\n",
       "      <td>10001</td>\n",
       "    </tr>\n",
       "    <tr>\n",
       "      <th>8</th>\n",
       "      <td>40.757, -73.99</td>\n",
       "      <td>5676</td>\n",
       "      <td>11 Times Square, 11, 8th Avenue, Diamond District, Manhattan Community Board 5, New York County, NYC, New York, 10036, United States of America</td>\n",
       "      <td>10036</td>\n",
       "    </tr>\n",
       "    <tr>\n",
       "      <th>9</th>\n",
       "      <td>40.752, -73.977</td>\n",
       "      <td>5500</td>\n",
       "      <td>GCT, 89, East 42nd Street, Diamond District, Manhattan Community Board 5, New York County, NYC, New York, 10017, United States of America</td>\n",
       "      <td>10017</td>\n",
       "    </tr>\n",
       "  </tbody>\n",
       "</table>\n",
       "</div>"
      ],
      "text/plain": [
       "           Dropoff  Number of Trips                                                                                                                                            address  zipcode\n",
       "0   40.75, -73.991            13597  Hotel Pennsylvania, 401, 7th Avenue, Koreatown, Manhattan Community Board 5, New York County, NYC, New York, 10001-2062, United States of America    10001\n",
       "1   40.75, -73.995            10836                             410, 8th Avenue, Chelsea, Manhattan Community Board 4, New York County, NYC, New York, 10001, United States of America    10001\n",
       "2  40.751, -73.991            10013                     200, West 34th Street, Koreatown, Manhattan Community Board 5, New York County, NYC, New York, 10001, United States of America    10001\n",
       "3  40.749, -73.992             9933              Emigrant Savings Bank, West 31st Street, Manhattan Community Board 4, New York County, NYC, New York, 10001, United States of America    10001\n",
       "4  40.762, -73.979             6196                   1321, 6th Avenue, Diamond District, Manhattan Community Board 5, New York County, NYC, New York, 10019, United States of America    10019\n",
       "5  40.752, -73.978             6115            One Grand Central Place, 120, Park Avenue, Manhattan Community Board 5, New York County, NYC, New York, 10016, United States of America    10016\n",
       "6  40.774, -73.871             5911                                    Discover NY, Central Terminal Drive, North Beach, Queens County, NYC, New York, 11368, United States of America    11368\n",
       "7   40.75, -73.992             5842       Two Penn Plaza, 2, West 33rd Street, Koreatown, Manhattan Community Board 5, New York County, NYC, New York, 10001, United States of America    10001\n",
       "8   40.757, -73.99             5676    11 Times Square, 11, 8th Avenue, Diamond District, Manhattan Community Board 5, New York County, NYC, New York, 10036, United States of America    10036\n",
       "9  40.752, -73.977             5500          GCT, 89, East 42nd Street, Diamond District, Manhattan Community Board 5, New York County, NYC, New York, 10017, United States of America    10017"
      ]
     },
     "execution_count": 239,
     "metadata": {},
     "output_type": "execute_result"
    }
   ],
   "source": [
    "e_df['zipcode'] = e_df['address'].str.extract('(\\d{5})', expand=True).astype(int)\n",
    "e_df"
   ]
  },
  {
   "cell_type": "code",
   "execution_count": 156,
   "metadata": {},
   "outputs": [
    {
     "data": {
      "text/html": [
       "<div>\n",
       "<style>\n",
       "    .dataframe thead tr:only-child th {\n",
       "        text-align: right;\n",
       "    }\n",
       "\n",
       "    .dataframe thead th {\n",
       "        text-align: left;\n",
       "    }\n",
       "\n",
       "    .dataframe tbody tr th {\n",
       "        vertical-align: top;\n",
       "    }\n",
       "</style>\n",
       "<table border=\"1\" class=\"dataframe\">\n",
       "  <thead>\n",
       "    <tr style=\"text-align: right;\">\n",
       "      <th></th>\n",
       "      <th>Pickup</th>\n",
       "      <th>Number of Trips</th>\n",
       "    </tr>\n",
       "  </thead>\n",
       "  <tbody>\n",
       "    <tr>\n",
       "      <th>0</th>\n",
       "      <td>40.751, -73.994</td>\n",
       "      <td>14765</td>\n",
       "    </tr>\n",
       "    <tr>\n",
       "      <th>1</th>\n",
       "      <td>40.769, -73.863</td>\n",
       "      <td>13644</td>\n",
       "    </tr>\n",
       "    <tr>\n",
       "      <th>2</th>\n",
       "      <td>40.75, -73.992</td>\n",
       "      <td>13587</td>\n",
       "    </tr>\n",
       "    <tr>\n",
       "      <th>3</th>\n",
       "      <td>40.75, -73.991</td>\n",
       "      <td>12395</td>\n",
       "    </tr>\n",
       "    <tr>\n",
       "      <th>4</th>\n",
       "      <td>40.774, -73.871</td>\n",
       "      <td>11811</td>\n",
       "    </tr>\n",
       "    <tr>\n",
       "      <th>5</th>\n",
       "      <td>40.774, -73.873</td>\n",
       "      <td>11049</td>\n",
       "    </tr>\n",
       "    <tr>\n",
       "      <th>6</th>\n",
       "      <td>40.757, -73.99</td>\n",
       "      <td>9816</td>\n",
       "    </tr>\n",
       "    <tr>\n",
       "      <th>7</th>\n",
       "      <td>40.756, -73.991</td>\n",
       "      <td>9163</td>\n",
       "    </tr>\n",
       "    <tr>\n",
       "      <th>8</th>\n",
       "      <td>40.752, -73.978</td>\n",
       "      <td>8950</td>\n",
       "    </tr>\n",
       "    <tr>\n",
       "      <th>9</th>\n",
       "      <td>40.645, -73.782</td>\n",
       "      <td>8742</td>\n",
       "    </tr>\n",
       "  </tbody>\n",
       "</table>\n",
       "</div>"
      ],
      "text/plain": [
       "            Pickup  Number of Trips\n",
       "0  40.751, -73.994            14765\n",
       "1  40.769, -73.863            13644\n",
       "2   40.75, -73.992            13587\n",
       "3   40.75, -73.991            12395\n",
       "4  40.774, -73.871            11811\n",
       "5  40.774, -73.873            11049\n",
       "6   40.757, -73.99             9816\n",
       "7  40.756, -73.991             9163\n",
       "8  40.752, -73.978             8950\n",
       "9  40.645, -73.782             8742"
      ]
     },
     "execution_count": 156,
     "metadata": {},
     "output_type": "execute_result"
    }
   ],
   "source": [
    "# Convert popular pickup locations into a dataframe\n",
    "c = taxi_df3.groupby('pickup_geocode')['pickup_geocode'].count().sort_values(ascending=False).head(10)\n",
    "c = c.to_frame().rename(columns={'pickup_geocode':'Number of Trips'}).reset_index()\n",
    "c_df = c.copy()\n",
    "c_df = c_df.rename(columns={'pickup_geocode':'Pickup'})\n",
    "c_df"
   ]
  },
  {
   "cell_type": "code",
   "execution_count": 234,
   "metadata": {},
   "outputs": [
    {
     "data": {
      "text/html": [
       "<div>\n",
       "<style>\n",
       "    .dataframe thead tr:only-child th {\n",
       "        text-align: right;\n",
       "    }\n",
       "\n",
       "    .dataframe thead th {\n",
       "        text-align: left;\n",
       "    }\n",
       "\n",
       "    .dataframe tbody tr th {\n",
       "        vertical-align: top;\n",
       "    }\n",
       "</style>\n",
       "<table border=\"1\" class=\"dataframe\">\n",
       "  <thead>\n",
       "    <tr style=\"text-align: right;\">\n",
       "      <th></th>\n",
       "      <th>Dropoff</th>\n",
       "      <th>Number of Trips</th>\n",
       "      <th>address</th>\n",
       "    </tr>\n",
       "  </thead>\n",
       "  <tbody>\n",
       "    <tr>\n",
       "      <th>0</th>\n",
       "      <td>40.75, -73.991</td>\n",
       "      <td>13597</td>\n",
       "      <td>Hotel Pennsylvania, 401, 7th Avenue, Koreatown, Manhattan Community Board 5, New York County, NYC, New York, 10001-2062, United States of America</td>\n",
       "    </tr>\n",
       "    <tr>\n",
       "      <th>1</th>\n",
       "      <td>40.75, -73.995</td>\n",
       "      <td>10836</td>\n",
       "      <td>410, 8th Avenue, Chelsea, Manhattan Community Board 4, New York County, NYC, New York, 10001, United States of America</td>\n",
       "    </tr>\n",
       "    <tr>\n",
       "      <th>2</th>\n",
       "      <td>40.751, -73.991</td>\n",
       "      <td>10013</td>\n",
       "      <td>200, West 34th Street, Koreatown, Manhattan Community Board 5, New York County, NYC, New York, 10001, United States of America</td>\n",
       "    </tr>\n",
       "    <tr>\n",
       "      <th>3</th>\n",
       "      <td>40.749, -73.992</td>\n",
       "      <td>9933</td>\n",
       "      <td>Emigrant Savings Bank, West 31st Street, Manhattan Community Board 4, New York County, NYC, New York, 10001, United States of America</td>\n",
       "    </tr>\n",
       "    <tr>\n",
       "      <th>4</th>\n",
       "      <td>40.762, -73.979</td>\n",
       "      <td>6196</td>\n",
       "      <td>1321, 6th Avenue, Diamond District, Manhattan Community Board 5, New York County, NYC, New York, 10019, United States of America</td>\n",
       "    </tr>\n",
       "    <tr>\n",
       "      <th>5</th>\n",
       "      <td>40.752, -73.978</td>\n",
       "      <td>6115</td>\n",
       "      <td>One Grand Central Place, 120, Park Avenue, Manhattan Community Board 5, New York County, NYC, New York, 10016, United States of America</td>\n",
       "    </tr>\n",
       "    <tr>\n",
       "      <th>6</th>\n",
       "      <td>40.774, -73.871</td>\n",
       "      <td>5911</td>\n",
       "      <td>Discover NY, Central Terminal Drive, North Beach, Queens County, NYC, New York, 11368, United States of America</td>\n",
       "    </tr>\n",
       "    <tr>\n",
       "      <th>7</th>\n",
       "      <td>40.75, -73.992</td>\n",
       "      <td>5842</td>\n",
       "      <td>Two Penn Plaza, 2, West 33rd Street, Koreatown, Manhattan Community Board 5, New York County, NYC, New York, 10001, United States of America</td>\n",
       "    </tr>\n",
       "    <tr>\n",
       "      <th>8</th>\n",
       "      <td>40.757, -73.99</td>\n",
       "      <td>5676</td>\n",
       "      <td>11 Times Square, 11, 8th Avenue, Diamond District, Manhattan Community Board 5, New York County, NYC, New York, 10036, United States of America</td>\n",
       "    </tr>\n",
       "    <tr>\n",
       "      <th>9</th>\n",
       "      <td>40.752, -73.977</td>\n",
       "      <td>5500</td>\n",
       "      <td>GCT, 89, East 42nd Street, Diamond District, Manhattan Community Board 5, New York County, NYC, New York, 10017, United States of America</td>\n",
       "    </tr>\n",
       "  </tbody>\n",
       "</table>\n",
       "</div>"
      ],
      "text/plain": [
       "           Dropoff  Number of Trips                                                                                                                                            address\n",
       "0   40.75, -73.991            13597  Hotel Pennsylvania, 401, 7th Avenue, Koreatown, Manhattan Community Board 5, New York County, NYC, New York, 10001-2062, United States of America\n",
       "1   40.75, -73.995            10836                             410, 8th Avenue, Chelsea, Manhattan Community Board 4, New York County, NYC, New York, 10001, United States of America\n",
       "2  40.751, -73.991            10013                     200, West 34th Street, Koreatown, Manhattan Community Board 5, New York County, NYC, New York, 10001, United States of America\n",
       "3  40.749, -73.992             9933              Emigrant Savings Bank, West 31st Street, Manhattan Community Board 4, New York County, NYC, New York, 10001, United States of America\n",
       "4  40.762, -73.979             6196                   1321, 6th Avenue, Diamond District, Manhattan Community Board 5, New York County, NYC, New York, 10019, United States of America\n",
       "5  40.752, -73.978             6115            One Grand Central Place, 120, Park Avenue, Manhattan Community Board 5, New York County, NYC, New York, 10016, United States of America\n",
       "6  40.774, -73.871             5911                                    Discover NY, Central Terminal Drive, North Beach, Queens County, NYC, New York, 11368, United States of America\n",
       "7   40.75, -73.992             5842       Two Penn Plaza, 2, West 33rd Street, Koreatown, Manhattan Community Board 5, New York County, NYC, New York, 10001, United States of America\n",
       "8   40.757, -73.99             5676    11 Times Square, 11, 8th Avenue, Diamond District, Manhattan Community Board 5, New York County, NYC, New York, 10036, United States of America\n",
       "9  40.752, -73.977             5500          GCT, 89, East 42nd Street, Diamond District, Manhattan Community Board 5, New York County, NYC, New York, 10017, United States of America"
      ]
     },
     "execution_count": 234,
     "metadata": {},
     "output_type": "execute_result"
    }
   ],
   "source": [
    "e_df['address'] = e_df['address'].astype(str)\n",
    "e_df"
   ]
  },
  {
   "cell_type": "code",
   "execution_count": 233,
   "metadata": {},
   "outputs": [
    {
     "data": {
      "text/html": [
       "<div>\n",
       "<style>\n",
       "    .dataframe thead tr:only-child th {\n",
       "        text-align: right;\n",
       "    }\n",
       "\n",
       "    .dataframe thead th {\n",
       "        text-align: left;\n",
       "    }\n",
       "\n",
       "    .dataframe tbody tr th {\n",
       "        vertical-align: top;\n",
       "    }\n",
       "</style>\n",
       "<table border=\"1\" class=\"dataframe\">\n",
       "  <thead>\n",
       "    <tr style=\"text-align: right;\">\n",
       "      <th></th>\n",
       "      <th>Dropoff</th>\n",
       "      <th>Number of Trips</th>\n",
       "      <th>address</th>\n",
       "    </tr>\n",
       "  </thead>\n",
       "  <tbody>\n",
       "    <tr>\n",
       "      <th>0</th>\n",
       "      <td>40.75, -73.991</td>\n",
       "      <td>13597</td>\n",
       "      <td>Hotel Pennsylvania, 401, 7th Avenue, Koreatown, Manhattan Community Board 5, New York County, NYC, New York, 10001-2062, United States of America</td>\n",
       "    </tr>\n",
       "    <tr>\n",
       "      <th>1</th>\n",
       "      <td>40.75, -73.995</td>\n",
       "      <td>10836</td>\n",
       "      <td>410, 8th Avenue, Chelsea, Manhattan Community Board 4, New York County, NYC, New York, 10001, United States of America</td>\n",
       "    </tr>\n",
       "    <tr>\n",
       "      <th>2</th>\n",
       "      <td>40.751, -73.991</td>\n",
       "      <td>10013</td>\n",
       "      <td>200, West 34th Street, Koreatown, Manhattan Community Board 5, New York County, NYC, New York, 10001, United States of America</td>\n",
       "    </tr>\n",
       "    <tr>\n",
       "      <th>3</th>\n",
       "      <td>40.749, -73.992</td>\n",
       "      <td>9933</td>\n",
       "      <td>Emigrant Savings Bank, West 31st Street, Manhattan Community Board 4, New York County, NYC, New York, 10001, United States of America</td>\n",
       "    </tr>\n",
       "    <tr>\n",
       "      <th>4</th>\n",
       "      <td>40.762, -73.979</td>\n",
       "      <td>6196</td>\n",
       "      <td>1321, 6th Avenue, Diamond District, Manhattan Community Board 5, New York County, NYC, New York, 10019, United States of America</td>\n",
       "    </tr>\n",
       "    <tr>\n",
       "      <th>5</th>\n",
       "      <td>40.752, -73.978</td>\n",
       "      <td>6115</td>\n",
       "      <td>One Grand Central Place, 120, Park Avenue, Manhattan Community Board 5, New York County, NYC, New York, 10016, United States of America</td>\n",
       "    </tr>\n",
       "    <tr>\n",
       "      <th>6</th>\n",
       "      <td>40.774, -73.871</td>\n",
       "      <td>5911</td>\n",
       "      <td>Discover NY, Central Terminal Drive, North Beach, Queens County, NYC, New York, 11368, United States of America</td>\n",
       "    </tr>\n",
       "    <tr>\n",
       "      <th>7</th>\n",
       "      <td>40.75, -73.992</td>\n",
       "      <td>5842</td>\n",
       "      <td>Two Penn Plaza, 2, West 33rd Street, Koreatown, Manhattan Community Board 5, New York County, NYC, New York, 10001, United States of America</td>\n",
       "    </tr>\n",
       "    <tr>\n",
       "      <th>8</th>\n",
       "      <td>40.757, -73.99</td>\n",
       "      <td>5676</td>\n",
       "      <td>11 Times Square, 11, 8th Avenue, Diamond District, Manhattan Community Board 5, New York County, NYC, New York, 10036, United States of America</td>\n",
       "    </tr>\n",
       "    <tr>\n",
       "      <th>9</th>\n",
       "      <td>40.752, -73.977</td>\n",
       "      <td>5500</td>\n",
       "      <td>GCT, 89, East 42nd Street, Diamond District, Manhattan Community Board 5, New York County, NYC, New York, 10017, United States of America</td>\n",
       "    </tr>\n",
       "  </tbody>\n",
       "</table>\n",
       "</div>"
      ],
      "text/plain": [
       "           Dropoff  Number of Trips                                                                                                                                            address\n",
       "0   40.75, -73.991            13597  Hotel Pennsylvania, 401, 7th Avenue, Koreatown, Manhattan Community Board 5, New York County, NYC, New York, 10001-2062, United States of America\n",
       "1   40.75, -73.995            10836                             410, 8th Avenue, Chelsea, Manhattan Community Board 4, New York County, NYC, New York, 10001, United States of America\n",
       "2  40.751, -73.991            10013                     200, West 34th Street, Koreatown, Manhattan Community Board 5, New York County, NYC, New York, 10001, United States of America\n",
       "3  40.749, -73.992             9933              Emigrant Savings Bank, West 31st Street, Manhattan Community Board 4, New York County, NYC, New York, 10001, United States of America\n",
       "4  40.762, -73.979             6196                   1321, 6th Avenue, Diamond District, Manhattan Community Board 5, New York County, NYC, New York, 10019, United States of America\n",
       "5  40.752, -73.978             6115            One Grand Central Place, 120, Park Avenue, Manhattan Community Board 5, New York County, NYC, New York, 10016, United States of America\n",
       "6  40.774, -73.871             5911                                    Discover NY, Central Terminal Drive, North Beach, Queens County, NYC, New York, 11368, United States of America\n",
       "7   40.75, -73.992             5842       Two Penn Plaza, 2, West 33rd Street, Koreatown, Manhattan Community Board 5, New York County, NYC, New York, 10001, United States of America\n",
       "8   40.757, -73.99             5676    11 Times Square, 11, 8th Avenue, Diamond District, Manhattan Community Board 5, New York County, NYC, New York, 10036, United States of America\n",
       "9  40.752, -73.977             5500          GCT, 89, East 42nd Street, Diamond District, Manhattan Community Board 5, New York County, NYC, New York, 10017, United States of America"
      ]
     },
     "execution_count": 233,
     "metadata": {},
     "output_type": "execute_result"
    }
   ],
   "source": [
    "e = taxi_df3.groupby('dropoff_geocode')['dropoff_geocode'].count().sort_values(ascending=False).head(10)\n",
    "e = e.to_frame().rename(columns={'dropoff_geocode':'Number of Trips'}).reset_index()\n",
    "e_df = e.copy()\n",
    "e_df = e_df.rename(columns={'dropoff_geocode':'Dropoff'})\n",
    "e_df['location'] = e_df.Dropoff.apply(geolocator.reverse)\n",
    "e_df['address'] = [i.address for i in e_df.location]\n",
    "e_df.drop('location',axis=1,inplace=True)\n",
    "e_df"
   ]
  }
 ],
 "metadata": {
  "kernelspec": {
   "display_name": "Python 2",
   "language": "python",
   "name": "python2"
  },
  "language_info": {
   "codemirror_mode": {
    "name": "ipython",
    "version": 2
   },
   "file_extension": ".py",
   "mimetype": "text/x-python",
   "name": "python",
   "nbconvert_exporter": "python",
   "pygments_lexer": "ipython2",
   "version": "2.7.13"
  }
 },
 "nbformat": 4,
 "nbformat_minor": 2
}
